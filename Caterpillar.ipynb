{
 "cells": [
  {
   "cell_type": "markdown",
   "metadata": {},
   "source": [
    "# Web Scraping Caterpillar New Equipments"
   ]
  },
  {
   "cell_type": "code",
   "execution_count": null,
   "metadata": {},
   "outputs": [],
   "source": [
    "import requests as r\n",
    "import pandas as pd\n",
    "import time\n",
    "from tqdm import tqdm"
   ]
  },
  {
   "cell_type": "markdown",
   "metadata": {},
   "source": [
    "### The website : https://www.cat.com/en_US/products/new/equipment.html"
   ]
  },
  {
   "cell_type": "markdown",
   "metadata": {},
   "source": [
    "```1th Task :```\n",
    "\n",
    "    Get all the equipments names"
   ]
  },
  {
   "cell_type": "code",
   "execution_count": null,
   "metadata": {},
   "outputs": [],
   "source": [
    "\n",
    "\n",
    "\n",
    "url = \"https://www.cat.com/en_US/products/new/equipment/_jcr_content.feed.json\"\n",
    "headers = \"\"\"accept: application/json, text/javascript, */*; q=0.01\n",
    "accept-encoding: gzip, deflate, br\n",
    "accept-language: fr-FR,fr;q=0.9,en-US;q=0.8,en;q=0.7,pt-BR;q=0.6,pt;q=0.5\n",
    "cache-control: no-cache\n",
    "cookie: cookie-consent-status=accepted; localePage=/fr_FR.html; _ym_uid=1619679846389344437; _ym_d=1619679846; ak_bmsc=C48A71E440BCE4E360621C844D1F4740685974CA006D0000CEF58B6005EE036F~plXp6CDNdiipl6yEX1e8QjbWMrYDDATvGIoT7AhiWlP8D3Q/uKacg02IwOkZMeqSHDP+DmPEzf0gG2wDQ2u7R2ozBAu8ff6sMaa1MT4y1JS0y8UgFVXD1hfRT3PPhhMMhAmcOvrYxqEY4kfNwMGWR2ijC6Jve7eQNCG/vuTQWlUaOgh3QsmRKIWs6/o8dVa62e+tQSUNIb8AvNVQ7xy/oYagb8mg9dMaZ8DzmSjpvCPXQ=; __utmzz=%3Futm_source%3Dgoogle%26utm_medium%3Dorganic%26utm_campaign%3D(not%20set)%26utm_term%3D(not%20provided); __utmzses=session; _ym_isad=2; QSI_SI_8JinsZNoQtLWrYN_intercept=true; JSESSIONID=node01vdbniey1wzmh1tpb2ji3omzll1909607.node0; _ga=GA1.2.69569787.1619785196; _gid=GA1.2.2051265982.1619785196; _evga_778c={%22uuid%22:%22f5f6177157e2974d%22}; _gaexp=GAX1.2.o743T5FLRXmHqCh9ec7G4w.18812.0!KjzI7NNFSX-40_b72K8XaQ.18819.0; QSI_HistorySession=https%3A%2F%2Fwww.cat.com%2Ffr_FR%2Fproducts%2Fnew%2Fequipment.html%3Fpage%3D2~1619679848979%7Chttps%3A%2F%2Fwww.cat.com%2Ffr_FR%2Fproducts%2Fnew%2Fequipment%2Ftelehandlers.html~1619679872116%7Chttps%3A%2F%2Fwww.cat.com%2Ffr_FR.html~1619785175412%7Chttps%3A%2F%2Fwww.cat.com%2Fen_US%2Fproducts.html%3F_ga%3D2.98155676.2051265982.1619785196-69569787.1619785196~1619785206093%7Chttps%3A%2F%2Fwww.cat.com%2Fen_US%2Fproducts%2Fnew.html~1619785212816%7Chttps%3A%2F%2Fwww.cat.com%2Fen_US%2Fproducts%2Fnew%2Fequipment.html~1619785225066%7Chttps%3A%2F%2Fwww.cat.com%2Fen_US%2Fproducts%2Fnew%2Fequipment%2Farticulated-trucks.html~1619785330327; AWSALBTG=E8xm9xEVZQmVocojABIWzzkumRyx/0PD1SwbmqFs0b9b/BhLGGu1CZuBxjI3C+GUaPkdwVbiZFTzLLqmNPsxSumPYgWuar8udsYLXo537Ydlx5QvCWYGefaPMoEismNZ9lKGdLJufjtaLSN0RGZpOx1iAlIz7EUiqZ4GhAGHJwCY; AWSALBTGCORS=E8xm9xEVZQmVocojABIWzzkumRyx/0PD1SwbmqFs0b9b/BhLGGu1CZuBxjI3C+GUaPkdwVbiZFTzLLqmNPsxSumPYgWuar8udsYLXo537Ydlx5QvCWYGefaPMoEismNZ9lKGdLJufjtaLSN0RGZpOx1iAlIz7EUiqZ4GhAGHJwCY; AWSALB=JFosM985Z8wJdxbOvYGuxmawiafOgAioRQUfPeAAkPM+BUkSsIO9IK1NGLe033ULAIEa+8WAY5zvE8Xjz2xJzwQat8F/HrqknZO8kHY6fVAV+APFOwSyedHLv4rv; AWSALBCORS=JFosM985Z8wJdxbOvYGuxmawiafOgAioRQUfPeAAkPM+BUkSsIO9IK1NGLe033ULAIEa+8WAY5zvE8Xjz2xJzwQat8F/HrqknZO8kHY6fVAV+APFOwSyedHLv4rv; ADRUM_BTa=R:43|g:641642f7-088f-449b-82d8-8b6822add194|n:cat-prod_f7d9caec-f2b7-4921-8d3b-1d2bc2552176; SameSite=None; ADRUM_BT1=R:43|i:1351164|e:407; bm_sv=F8F69C99390CEAF72A3A674DF4C7D3D1~xr9lvW49jUpLYuEJ+jcrx/4WChHnqUfLzbqmOW8c9/ramDZUtm1NvDIVfohytbVgU2bGvAcRGxuetTOWpccW1Bb0v0AS0WfXQ1jzCeq13QeSH99Szu/g/wcdGuUEX87tnqjkSxFOuf1vBpp+UFqV8w==\n",
    "pragma: no-cache\n",
    "referer: https://www.cat.com/en_US/products/new/equipment.html?page=2\n",
    "sec-ch-ua: \" Not A;Brand\";v=\"99\", \"Chromium\";v=\"90\", \"Google Chrome\";v=\"90\"\n",
    "sec-ch-ua-mobile: ?0\n",
    "sec-fetch-dest: empty\n",
    "sec-fetch-mode: cors\n",
    "sec-fetch-site: same-origin\n",
    "user-agent: Mozilla/5.0 (Windows NT 10.0; Win64; x64) AppleWebKit/537.36 (KHTML, like Gecko) Chrome/90.0.4430.93 Safari/537.36\n",
    "x-requested-with: XMLHttpRequest\"\"\"\n",
    "\n",
    "headers=dict(i.split(': ') for i in headers.split('\\n'))\n",
    "names = r.get(url, headers=headers).json()\n",
    "names.keys()\n",
    "equipment = pd.json_normalize(names['models'])\n"
   ]
  },
  {
   "cell_type": "markdown",
   "metadata": {},
   "source": [
    "```Get list of all the equipment names```"
   ]
  },
  {
   "cell_type": "code",
   "execution_count": null,
   "metadata": {},
   "outputs": [],
   "source": [
    "def equi_name(x):\n",
    "    names_lst = []\n",
    "    names_lst.append(x)\n",
    "    return list(set(names_lst))\n",
    "\n"
   ]
  },
  {
   "cell_type": "code",
   "execution_count": null,
   "metadata": {},
   "outputs": [],
   "source": [
    "equi = equipment['family_name'].apply(equi_name)"
   ]
  },
  {
   "cell_type": "code",
   "execution_count": null,
   "metadata": {},
   "outputs": [],
   "source": [
    "equi"
   ]
  },
  {
   "cell_type": "markdown",
   "metadata": {},
   "source": [
    "``` Get equipment names in the same format as in link```"
   ]
  },
  {
   "cell_type": "code",
   "execution_count": null,
   "metadata": {},
   "outputs": [],
   "source": [
    "\n",
    "def org_name(x):\n",
    "    names = []\n",
    "    for t in range(len(x)):\n",
    "        for i in x[t] :\n",
    "            i = i.replace(\" - \",\" \")\n",
    "            names.append(i.replace('\"',\"\").replace(' ', '-').lower())\n",
    "\n",
    "    return names\n",
    "    \n",
    "names = org_name(equi)"
   ]
  },
  {
   "cell_type": "code",
   "execution_count": null,
   "metadata": {
    "scrolled": true
   },
   "outputs": [],
   "source": [
    "names"
   ]
  },
  {
   "cell_type": "markdown",
   "metadata": {},
   "source": [
    "```2th Task :```\n",
    "\n",
    "    Get all the equipments names"
   ]
  },
  {
   "cell_type": "code",
   "execution_count": null,
   "metadata": {},
   "outputs": [],
   "source": [
    "dftotal = pd.DataFrame()\n",
    "\n",
    "for i in tqdm(names):\n",
    "                   \n",
    "        url = f\"https://www.cat.com/en_US/products/new/equipment/{i}/_jcr_content.feed.json\"\n",
    "        headers = f\"\"\"accept: application/json, text/javascript, */*; q=0.01\n",
    "accept-encoding: gzip, deflate, br\n",
    "accept-language: fr-FR,fr;q=0.9,en-US;q=0.8,en;q=0.7,pt-BR;q=0.6,pt;q=0.5\n",
    "cache-control: no-cache\n",
    "cookie: cookie-consent-status=accepted; localePage=/fr_FR.html; _ym_uid=1619679846389344437; _ym_d=1619679846; __utmzz=%3Futm_source%3Dgoogle%26utm_medium%3Dorganic%26utm_campaign%3D(not%20set)%26utm_term%3D(not%20provided); __utmzses=session; _ym_isad=2; QSI_SI_8JinsZNoQtLWrYN_intercept=true; JSESSIONID=node01vdbniey1wzmh1tpb2ji3omzll1909607.node0; _ga=GA1.2.69569787.1619785196; _gid=GA1.2.2051265982.1619785196; _evga_778c={{%22uuid%22:%22f5f6177157e2974d%22}}; _gaexp=GAX1.2.o743T5FLRXmHqCh9ec7G4w.18812.0!KjzI7NNFSX-40_b72K8XaQ.18819.0; ak_bmsc=59AB6AE0A1229B8D8EBCAF3FCDBFDD43685974CA006D000085128C60B20C6F7F~plL//ljgZH4QKt2kCHzkPPIQxb7frXzhNOdmQ4OQq3YqpJ6AI2UgFBpK7/aTK89fs8BjUtewLLB4JaAY3tPgfZbZR9TEws2Cgkc3rlFZrNJ2zo3WfDouJO4/OQamuEJi5JZdu//0AGaXSFreCDTOvSA/r4qdyoFBzE84+ycAAretgXcczMFRvraJXTUP456kkCyO91V5ebuTZvRyTszXNngL2cI4rAAh2q+G/N4bgV7rY=; _dc_gtm_UA-3257780-1=1; QSI_HistorySession=https%3A%2F%2Fwww.cat.com%2Ffr_FR%2Fproducts%2Fnew%2Fequipment.html%3Fpage%3D2~1619679848979%7Chttps%3A%2F%2Fwww.cat.com%2Ffr_FR%2Fproducts%2Fnew%2Fequipment%2Ftelehandlers.html~1619679872116%7Chttps%3A%2F%2Fwww.cat.com%2Ffr_FR.html~1619785175412%7Chttps%3A%2F%2Fwww.cat.com%2Fen_US%2Fproducts.html%3F_ga%3D2.98155676.2051265982.1619785196-69569787.1619785196~1619785206093%7Chttps%3A%2F%2Fwww.cat.com%2Fen_US%2Fproducts%2Fnew.html~1619785212816%7Chttps%3A%2F%2Fwww.cat.com%2Fen_US%2Fproducts%2Fnew%2Fequipment.html~1619785225066%7Chttps%3A%2F%2Fwww.cat.com%2Fen_US%2Fproducts%2Fnew%2Fequipment%2Farticulated-trucks.html~1619785330327%7Chttps%3A%2F%2Fwww.cat.com%2Fen_US%2Fproducts%2Fnew%2Fequipment.html%3Fpage%3D2~1619785403022%7Chttps%3A%2F%2Fwww.cat.com%2Fen_US%2Fproducts%2Fnew%2Fequipment%2Fbackhoe-loaders.html~1619786201928%7Chttps%3A%2F%2Fwww.cat.com%2Fen_US%2Fproducts%2Fnew.html~1619787553961%7Chttps%3A%2F%2Fwww.cat.com%2Fen_US%2Fproducts%2Fnew%2Fequipment.html~1619787557859%7Chttps%3A%2F%2Fwww.cat.com%2Fen_US%2Fproducts%2Fnew%2Fequipment%2Farticulated-trucks.html~1619787562987%7Chttps%3A%2F%2Fwww.cat.com%2Fen_US%2Fproducts%2Fnew%2Fequipment%2Farticulated-trucks%2Farticulated-truck-bare-chassis%2F1000005091.html~1619787690589%7Chttps%3A%2F%2Fwww.cat.com%2Fen_US%2Fproducts%2Fnew%2Fequipment.html~1619792233133%7Chttps%3A%2F%2Fwww.cat.com%2Fen_US%2Fproducts%2Fnew%2Fequipment%2Farticulated-trucks%2Farticulated-truck-bare-chassis%2F1000005091.html~1619792241079%7Chttps%3A%2F%2Fwww.cat.com%2Fcontent%2Fcatdotcom%2Fen_US%2Fproducts%2Fnew%2Fequipment%2Farticulated-trucks.html~1619792570558; AWSALBTG=k0qIl5Wotw5TnzHaaO++3PkS3KLpLr/jiqiKVMC6RbdTj2iJ6uxpzgzJ7mJn1naP1O4Aa6C9C9pwkBcoAvA2S2uwvIvNXAH8SUXxcWxeZzEu5ZtnkTxnT7TymwTuRyTaWQyRvFGA2WEM5H+1PQNp4f8W0fM98WxizeenBWjuUnqi; AWSALBTGCORS=k0qIl5Wotw5TnzHaaO++3PkS3KLpLr/jiqiKVMC6RbdTj2iJ6uxpzgzJ7mJn1naP1O4Aa6C9C9pwkBcoAvA2S2uwvIvNXAH8SUXxcWxeZzEu5ZtnkTxnT7TymwTuRyTaWQyRvFGA2WEM5H+1PQNp4f8W0fM98WxizeenBWjuUnqi; AWSALB=TUMDD+/vv6vabBYBO0rszbXnXYvcJ1h6vGD4XK0UzAbK3ResJCLTu/8lymGCJqby1DrT2Z8O+A3aSdgomR4b/kU9bhWcSCIQfEtuO58fTUomq2RtvyUlf1UNLQ4b; AWSALBCORS=TUMDD+/vv6vabBYBO0rszbXnXYvcJ1h6vGD4XK0UzAbK3ResJCLTu/8lymGCJqby1DrT2Z8O+A3aSdgomR4b/kU9bhWcSCIQfEtuO58fTUomq2RtvyUlf1UNLQ4b; ADRUM_BTa=R:0|g:1ca8d287-941a-451e-b24a-d410b63f01af|n:cat-prod_f7d9caec-f2b7-4921-8d3b-1d2bc2552176; SameSite=None; bm_sv=3D245346CEDB63C1B0C7ACD5BAE93943~xr9lvW49jUpLYuEJ+jcrxwaxQ5xISmh5DmqZFIrFAMCPqb+hE6ny2cbog80CMh3j4hxjWH8kgLA38wEDfxdRspYX40ZLIfCXX8o15IRWn4lHu9P08znJubAFRgakE00AV1YddxXsPkVyXr/fu3os6w==\n",
    "pragma: no-cache\n",
    "referer: https://www.cat.com/content/catdotcom/en_US/products/new/equipment/{i}.html\n",
    "sec-ch-ua: \" Not A;Brand\";v=\"99\", \"Chromium\";v=\"90\", \"Google Chrome\";v=\"90\"\n",
    "sec-ch-ua-mobile: ?0\n",
    "sec-fetch-dest: empty\n",
    "sec-fetch-mode: cors\n",
    "sec-fetch-site: same-origin\n",
    "user-agent: Mozilla/5.0 (Windows NT 10.0; Win64; x64) AppleWebKit/537.36 (KHTML, like Gecko) Chrome/90.0.4430.93 Safari/537.36\n",
    "x-requested-with: XMLHttpRequest\"\"\"\n",
    "        \n",
    "        headers = str(headers)\n",
    "        headers=dict(t.split(': ') for t in headers.split('\\n'))\n",
    "        data = r.get(url, headers=headers).json()\n",
    "        df = pd.json_normalize(data['models'])\n",
    "        dftotal=dftotal.append(df)\n",
    "        #time.sleep(1)\n",
    "        #print(f\"Page {i} (%s/25) is finished\"%names.index(i))\n",
    "    "
   ]
  },
  {
   "cell_type": "code",
   "execution_count": null,
   "metadata": {
    "scrolled": true
   },
   "outputs": [],
   "source": [
    "len(dftotal)"
   ]
  },
  {
   "cell_type": "markdown",
   "metadata": {},
   "source": [
    "```Let's explore it and clean it```"
   ]
  },
  {
   "cell_type": "code",
   "execution_count": null,
   "metadata": {
    "scrolled": true
   },
   "outputs": [],
   "source": [
    "dftotal.businessUnit.value_counts()"
   ]
  },
  {
   "cell_type": "code",
   "execution_count": null,
   "metadata": {
    "scrolled": true
   },
   "outputs": [],
   "source": [
    "dftotal.buildQuoteMob.value_counts()"
   ]
  },
  {
   "cell_type": "code",
   "execution_count": null,
   "metadata": {},
   "outputs": [],
   "source": [
    "dftotal.drop('buildQuoteMob', axis=1, inplace=True)"
   ]
  },
  {
   "cell_type": "code",
   "execution_count": null,
   "metadata": {},
   "outputs": [],
   "source": [
    "dftotal.drop(['compare_url','image_url','buildAndPricePC'], axis=1, inplace=True)"
   ]
  },
  {
   "cell_type": "code",
   "execution_count": null,
   "metadata": {},
   "outputs": [],
   "source": [
    "dftotal.drop(['dealers', 'filters',\n",
    "       'listOfPrices', 'priceList'], axis=1, inplace=True)"
   ]
  },
  {
   "cell_type": "code",
   "execution_count": null,
   "metadata": {
    "scrolled": true
   },
   "outputs": [],
   "source": [
    "dftotal.drop(['small_image_url',\n",
    "       'itemtype', 'msrp', 'isBCP', 'sort_order',\n",
    "       'brand', 'longDesc', 'buildQuote'], axis=1, inplace=True)"
   ]
  },
  {
   "cell_type": "code",
   "execution_count": null,
   "metadata": {
    "scrolled": true
   },
   "outputs": [],
   "source": [
    "dftotal.columns"
   ]
  },
  {
   "cell_type": "code",
   "execution_count": null,
   "metadata": {},
   "outputs": [],
   "source": [
    "dftotal.loc[dftotal.familyId.str.contains('articulated')]"
   ]
  },
  {
   "cell_type": "code",
   "execution_count": null,
   "metadata": {},
   "outputs": [],
   "source": [
    "dftotal"
   ]
  },
  {
   "cell_type": "markdown",
   "metadata": {},
   "source": [
    "```3th Task :```\n",
    "\n",
    "    Let's get all the specificity of each product   "
   ]
  },
  {
   "cell_type": "code",
   "execution_count": null,
   "metadata": {},
   "outputs": [],
   "source": [
    "l = set(dftotal.specs.apply(lambda x: [i['spec_name'] for i in x]).sum())\n"
   ]
  },
  {
   "cell_type": "code",
   "execution_count": null,
   "metadata": {},
   "outputs": [],
   "source": [
    "l"
   ]
  },
  {
   "cell_type": "code",
   "execution_count": null,
   "metadata": {},
   "outputs": [],
   "source": [
    "def get_operat_weight_US(x):\n",
    "    for i in x:\n",
    "        if 'Weight' in i['spec_name'] or 'Capacity' in i['spec_name'] or 'Capacities' in i['spec_name'] or i['spec_name'] == 'Rated Payload' or i['spec_name'] == 'Nominal Rated Payload (33.00R51 Tires)' or i['spec_name'] == 'Nominal Rated Payload' or i['spec_name'] == 'Maximum Rated Output Torque' or i['spec_name'] == 'Dipper Payload' or i['spec_name'] == 'Bucket Payload' or i['spec_name'] == 'Nominal Payload Class (100%)' or i['spec_name'] == 'Bit Load' or i['spec_name'] == 'Bucket Capability' or i['spec_name'] == 'Cab - ROPS/FOPS' or i['spec_name'] =='Dogbone Breaking Force' or i['spec_name'] =='Heaped (SAE 2:1)' or i['spec_name'] == 'Tractor ROPS':\n",
    "            return i['spec_value'][0]\n",
    "    return 0\n",
    "dftotal['Operating Load (US)'] = dftotal.specs.apply(get_operat_weight_US)"
   ]
  },
  {
   "cell_type": "code",
   "execution_count": null,
   "metadata": {},
   "outputs": [],
   "source": [
    "def get_operat_weight_SI(x):\n",
    "    for i in x:\n",
    "        if 'Weight' in i['spec_name'] or 'Capacity' in i['spec_name'] or 'Capacities' in i['spec_name'] or i['spec_name'] == 'Rated Payload' or i['spec_name'] == 'Nominal Rated Payload (33.00R51 Tires)' or i['spec_name'] == 'Nominal Rated Payload' or i['spec_name'] == 'Maximum Rated Output Torque' or i['spec_name'] == 'Dipper Payload' or i['spec_name'] == 'Bucket Payload' or i['spec_name'] == 'Nominal Payload Class (100%)' or i['spec_name'] == 'Bit Load' or i['spec_name'] == 'Bucket Capability' or i['spec_name'] == 'Cab - ROPS/FOPS' or i['spec_name'] =='Dogbone Breaking Force' or i['spec_name'] =='Heaped (SAE 2:1)' or i['spec_name'] == 'Tractor ROPS':\n",
    "            return i['spec_value'][1]\n",
    "    return 0\n",
    "dftotal['Operating Load (SI)'] = dftotal.specs.apply(get_operat_weight_SI)"
   ]
  },
  {
   "cell_type": "code",
   "execution_count": null,
   "metadata": {},
   "outputs": [],
   "source": [
    "def get_power_us(x):\n",
    "    for i in x:\n",
    "        if 'Power' in i['spec_name'] or 'Engine Output' in i['spec_name'] or i['spec_name'] == 'Electric Motor - Output' or i['spec_name'] == 'Output':\n",
    "            return i['spec_value'][0]\n",
    "    return 0\n",
    "dftotal['Power (US)'] = dftotal.specs.apply(get_power_us)"
   ]
  },
  {
   "cell_type": "code",
   "execution_count": null,
   "metadata": {},
   "outputs": [],
   "source": [
    "def get_power_si(x):\n",
    "    for i in x:\n",
    "        if 'Power' in i['spec_name'] or 'Engine Output' in i['spec_name'] or i['spec_name'] == 'Electric Motor - Output' or i['spec_name'] == 'Output':\n",
    "            return i['spec_value'][1]\n",
    "    return 0\n",
    "dftotal['Power (SI)'] = dftotal.specs.apply(get_power_si)"
   ]
  },
  {
   "cell_type": "code",
   "execution_count": null,
   "metadata": {},
   "outputs": [],
   "source": [
    "def get_depth_us(x):\n",
    "    for i in x:\n",
    "        if 'Depth' in i['spec_name'] or i['spec_name'] == 'Hole Diameter':\n",
    "            return i['spec_value'][0]\n",
    "    return 0\n",
    "dftotal['Hole Depth/Size (US)'] = dftotal.specs.apply(get_depth_us)"
   ]
  },
  {
   "cell_type": "code",
   "execution_count": null,
   "metadata": {},
   "outputs": [],
   "source": [
    "def get_depth_si(x):\n",
    "    for i in x:\n",
    "        if 'Depth' in i['spec_name'] or i['spec_name'] == 'Hole Diameter':\n",
    "            return i['spec_value'][1]\n",
    "    return 0\n",
    "dftotal['Hole Depth/Size (SI)'] = dftotal.specs.apply(get_depth_si)"
   ]
  },
  {
   "cell_type": "code",
   "execution_count": null,
   "metadata": {},
   "outputs": [],
   "source": [
    "def get_width_us(x):\n",
    "    for i in x:\n",
    "        if 'Width' in i['spec_name'] or i['spec_name'] == 'Standard Paving Range' or i['spec_name'] == 'Standard Wheel Base' or i['spec_name'] == '6060 AC FS - Standard Track Pads' or i['spec_name'] == 'Bottom Plate Thickness' or i['spec_name'] == 'Height - Extended' or i['spec_name'] == 'Long Wheel Base' or i['spec_name'] ==' Maximum Lift Height' or i['spec_name'] =='Maximum Paving Range' or i['spec_name'] =='Maximum Pin Height at Stick Nose' or i['spec_name'] =='Plow Body Height' or i['spec_name'] == 'Seam Range' or i['spec_name'] =='Shield Centers' or i['spec_name'] =='Stroke' or i['spec_name'] =='Top Plate Thickness':\n",
    "            return i['spec_value'][0]\n",
    "    return 0\n",
    "dftotal['Size Construction (US)'] = dftotal.specs.apply(get_width_us)"
   ]
  },
  {
   "cell_type": "code",
   "execution_count": null,
   "metadata": {},
   "outputs": [],
   "source": [
    "def get_width_si(x):\n",
    "    for i in x:\n",
    "        if 'Width' in i['spec_name'] or i['spec_name'] == 'Standard Paving Range' or i['spec_name'] == 'Standard Wheel Base' or i['spec_name'] == '6060 AC FS - Standard Track Pads' or i['spec_name'] == 'Bottom Plate Thickness' or i['spec_name'] == 'Height - Extended' or i['spec_name'] == 'Long Wheel Base' or i['spec_name'] ==' Maximum Lift Height' or i['spec_name'] =='Maximum Paving Range' or i['spec_name'] =='Maximum Pin Height at Stick Nose' or i['spec_name'] =='Plow Body Height' or i['spec_name'] == 'Seam Range' or i['spec_name'] =='Shield Centers' or i['spec_name'] =='Stroke' or i['spec_name'] =='Top Plate Thickness':\n",
    "            return i['spec_value'][1]\n",
    "    return 0\n",
    "dftotal['Size Construction (SI)'] = dftotal.specs.apply(get_width_si)"
   ]
  },
  {
   "cell_type": "code",
   "execution_count": null,
   "metadata": {},
   "outputs": [],
   "source": [
    "def get_engine(x):\n",
    "    for i in x:\n",
    "        if i['spec_name'] == 'Engine Model' or i['spec_name'] == 'Engine' or i['spec_name'] == 'Tractor Engine' or i['spec_name'] == 'Engine Model (1)' or i['spec_name'] == 'Scraper Engine' or i['spec_name'] == 'CPU':\n",
    "            return i['spec_value'][0]\n",
    "    return 0\n",
    "dftotal['Engine Model'] = dftotal.specs.apply(get_engine)"
   ]
  },
  {
   "cell_type": "code",
   "execution_count": null,
   "metadata": {},
   "outputs": [],
   "source": [
    "def get_speed_mile(x):\n",
    "    for i in x:\n",
    "        if 'Speed' in i['spec_name']:\n",
    "            return i['spec_value'][0]\n",
    "    return 0\n",
    "\n",
    "dftotal['Travel Speed (US)'] = dftotal.specs.apply(get_speed_mile)\n"
   ]
  },
  {
   "cell_type": "code",
   "execution_count": null,
   "metadata": {},
   "outputs": [],
   "source": [
    "def get_speed_km(x):\n",
    "    for i in x:\n",
    "        if 'Speed' in i['spec_name']:\n",
    "            return i['spec_value'][1]\n",
    "    return 0\n",
    "\n",
    "dftotal['Travel Speed (SI)'] = dftotal.specs.apply(get_speed_km)"
   ]
  },
  {
   "cell_type": "code",
   "execution_count": null,
   "metadata": {},
   "outputs": [],
   "source": [
    "dftotal.columns"
   ]
  },
  {
   "cell_type": "code",
   "execution_count": null,
   "metadata": {},
   "outputs": [],
   "source": [
    "dftotal.head(2)"
   ]
  },
  {
   "cell_type": "code",
   "execution_count": null,
   "metadata": {},
   "outputs": [],
   "source": [
    "dftotal.shape"
   ]
  },
  {
   "cell_type": "code",
   "execution_count": null,
   "metadata": {},
   "outputs": [],
   "source": [
    "dftotal = dftotal.drop(['buildQuoteMob', 'compare_url', 'buildAndPricePC', 'dealers', 'filters', 'listOfPrices', 'priceList', 'small_image_url', 'itemtype', 'buildQuote', 'msrp', 'isBCP', 'specs', 'sort_order', 'familyId'], axis=1)\n",
    "dftotal.shape"
   ]
  },
  {
   "cell_type": "code",
   "execution_count": null,
   "metadata": {},
   "outputs": [],
   "source": [
    "dftotal.head()"
   ]
  },
  {
   "cell_type": "code",
   "execution_count": null,
   "metadata": {
    "scrolled": true
   },
   "outputs": [],
   "source": [
    "dftotal.columns"
   ]
  },
  {
   "cell_type": "code",
   "execution_count": null,
   "metadata": {},
   "outputs": [],
   "source": [
    "columns_order = ['family', 'model_name', 'idmodel',\"Operating Load (US)\", \"Operating Load (SI)\", \"Size Construction (US)\", \"Size Construction (SI)\" , 'Power (US)', 'Power (SI)', 'Hole Depth/Size (US)', 'Hole Depth/Size (SI)', 'Travel Speed (US)', 'Travel Speed (SI)', 'Engine Model', 'longDesc', 'businessUnit', 'detail_url', 'image_url', 'brand']"
   ]
  },
  {
   "cell_type": "code",
   "execution_count": null,
   "metadata": {},
   "outputs": [],
   "source": [
    "dftotal = dftotal.reindex(columns = columns_order)"
   ]
  },
  {
   "cell_type": "code",
   "execution_count": null,
   "metadata": {},
   "outputs": [],
   "source": [
    "dftotal['Index'] = range(1,378)"
   ]
  },
  {
   "cell_type": "code",
   "execution_count": null,
   "metadata": {},
   "outputs": [],
   "source": [
    "dftotal=dftotal.set_index(['Index'])\n"
   ]
  },
  {
   "cell_type": "code",
   "execution_count": null,
   "metadata": {},
   "outputs": [],
   "source": [
    "dftotal.head()"
   ]
  },
  {
   "cell_type": "code",
   "execution_count": null,
   "metadata": {},
   "outputs": [],
   "source": [
    "dftotal.to_csv(\"caterpillar.csv\", sep = '.')"
   ]
  },
  {
   "cell_type": "code",
   "execution_count": null,
   "metadata": {},
   "outputs": [],
   "source": [
    "names_columns = dftotal.columns\n",
    "names_columns = list(names_columns)\n",
    "print(names_columns)"
   ]
  },
  {
   "cell_type": "code",
   "execution_count": null,
   "metadata": {},
   "outputs": [],
   "source": [
    "from getpass import getpass\n",
    "import pymysql\n",
    "from sqlalchemy import create_engine"
   ]
  },
  {
   "cell_type": "code",
   "execution_count": null,
   "metadata": {},
   "outputs": [],
   "source": [
    "Hostname='localhost'\n",
    "username='root'\n",
    "password=getpass()"
   ]
  },
  {
   "cell_type": "code",
   "execution_count": null,
   "metadata": {},
   "outputs": [],
   "source": [
    "eng=create_engine(f'mysql+pymysql://{username}:{password}@{Hostname}:3306/caterpillar')"
   ]
  },
  {
   "cell_type": "code",
   "execution_count": null,
   "metadata": {},
   "outputs": [],
   "source": [
    "dftotal.to_sql('caterpillar', eng, if_exists = 'replace', index = False)"
   ]
  },
  {
   "cell_type": "markdown",
   "metadata": {},
   "source": [
    "import sqlite3\n",
    "conn = sqlite3.connect('Caterpillar.sql')\n",
    "c = conn.cursor()\n",
    "c.execute('CREATE TABLE EQUIPMENTS (Family, Model_Name, IdModel, Operating_Load_US, Operating_Load_SI, Size_Construction_US, Size Construction_SI, Power_US, Power_SI, Hole_Depth_Size_US, Hole_Depth_Size_SI, Travel_Speed_US, Travel_Speed_SI, Engine_Model, longDesc, businessUnit, detail_url, image_url, brand)')\n",
    "conn.commit()"
   ]
  },
  {
   "cell_type": "code",
   "execution_count": null,
   "metadata": {},
   "outputs": [],
   "source": [
    "dftotal.to_sql('Caterpillar', conn, if_exists = 'replace', index = False)\n"
   ]
  },
  {
   "cell_type": "code",
   "execution_count": null,
   "metadata": {},
   "outputs": [],
   "source": [
    "family_names = dftotal['family'].apply(equi_name)\n",
    "\n",
    "family_names "
   ]
  },
  {
   "cell_type": "code",
   "execution_count": null,
   "metadata": {},
   "outputs": [],
   "source": [
    "def clean_names(x):\n",
    "    fam = []\n",
    "    for i in x:\n",
    "        i = str(i)\n",
    "        i = i.replace(\"-\", '').replace('[','').replace(']','').replace(\"'\", '').replace('(', '').replace(')','')\n",
    "        fam.append(i.replace('\"',\"\").replace(' ', '-').lower())\n",
    "    return fam\n",
    "\n",
    "fam = clean_names(family_names)\n",
    "fam[0]"
   ]
  },
  {
   "cell_type": "code",
   "execution_count": null,
   "metadata": {},
   "outputs": [],
   "source": [
    "idmodel = list(dftotal.idmodel)\n",
    "idmodel[0]"
   ]
  }
 ],
 "metadata": {
  "hide_input": false,
  "kernelspec": {
   "display_name": "Python 3",
   "language": "python",
   "name": "python3"
  },
  "language_info": {
   "codemirror_mode": {
    "name": "ipython",
    "version": 3
   },
   "file_extension": ".py",
   "mimetype": "text/x-python",
   "name": "python",
   "nbconvert_exporter": "python",
   "pygments_lexer": "ipython3",
   "version": "3.8.5"
  }
 },
 "nbformat": 4,
 "nbformat_minor": 4
}
