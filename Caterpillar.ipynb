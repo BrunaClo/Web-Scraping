{
 "cells": [
  {
   "cell_type": "markdown",
   "metadata": {},
   "source": [
    "# Web Scraping Caterpillar New Equipments"
   ]
  },
  {
   "cell_type": "code",
   "execution_count": 131,
   "metadata": {},
   "outputs": [],
   "source": [
    "import requests as r\n",
    "import pandas as pd\n",
    "import numpy as np\n",
    "import time\n",
    "from tqdm import tqdm\n",
    "from selenium import webdriver\n",
    "\n",
    "from selenium.webdriver.common.keys import Keys\n",
    "\n",
    "from selenium.webdriver.chrome.options import Options\n",
    "from bs4 import BeautifulSoup\n",
    "from selenium.common.exceptions import NoSuchElementException\n"
   ]
  },
  {
   "cell_type": "markdown",
   "metadata": {},
   "source": [
    "### The website : https://www.cat.com/en_US/products/new/equipment.html"
   ]
  },
  {
   "cell_type": "markdown",
   "metadata": {},
   "source": [
    "```1th Task :```\n",
    "\n",
    "    Get all the equipments names"
   ]
  },
  {
   "cell_type": "code",
   "execution_count": 67,
   "metadata": {
    "run_control": {
     "marked": false
    }
   },
   "outputs": [],
   "source": [
    "\n",
    "\n",
    "\n",
    "url = \"https://www.cat.com/en_US/products/new/equipment/_jcr_content.feed.json\"\n",
    "headers = \"\"\"accept: application/json, text/javascript, */*; q=0.01\n",
    "accept-encoding: gzip, deflate, br\n",
    "accept-language: fr-FR,fr;q=0.9,en-US;q=0.8,en;q=0.7,pt-BR;q=0.6,pt;q=0.5\n",
    "cache-control: no-cache\n",
    "cookie: cookie-consent-status=accepted; localePage=/fr_FR.html; _ym_uid=1619679846389344437; _ym_d=1619679846; QSI_SI_8JinsZNoQtLWrYN_intercept=true; _ga=GA1.2.69569787.1619785196; _evga_778c={%22uuid%22:%22f5f6177157e2974d%22}; _gid=GA1.2.1311035109.1620632771; __utmzz=%3Futm_campaign%3D(not%20set); __utmzses=session; _ym_isad=2; _gaexp=GAX1.2.o743T5FLRXmHqCh9ec7G4w.18812.0!KjzI7NNFSX-40_b72K8XaQ.18819.0!Tj-XGR4kQQWfzKtZkTO0TA.18819.4!mLdyIydOSRerwFCcUnBKIg.18847.0!QYn1UVYZRo2sRa9sYRHgQQ.18770.0; JSESSIONID=node01lm0q630z04lo1a44dmzuae2eo3448013.node0; ak_bmsc=D5859D50B860950F7FEF9BD63B4637D1685974CA422C0000E2819A6013882F68~plYyXMCYe2FreqV+zVgFio/U2hg+mpZ/NjpYDox/PZQDWrSKiXWm6n0Xcy27eqQa7P+z3kG9CmeMBBu/4b3J7Pm+t6qrsSZ32x9Sn3jn+7rwnpTdtNJtRwuWB9lQ7hBWTZIvthorpxLBb4I+GjsfDjopDmEIfmMEuiGyEZ9N6aOfwcTpJIatYUigSTjhTe8y57/Zw4eMEA+1Y3wGH0981fcDT/b6ANJt77j0yNOJp2/dA=; AWSALBTG=GdN9/Hv6bE93/VMzziz/9a2AvwHT/FFoN0hupHxF5IsbWStjZ3XFmgARpsEJAsIF4ZDwU3SYVmlvwm8rN/gofQfWbXWkIY3DGJuW4+GWSZiIKe2rzHdHBbiOKChj3bQ7yIbBkI2ZRncsh9xy2AALPCUqKfGBqE84cI1e4z4jNfOf; AWSALBTGCORS=GdN9/Hv6bE93/VMzziz/9a2AvwHT/FFoN0hupHxF5IsbWStjZ3XFmgARpsEJAsIF4ZDwU3SYVmlvwm8rN/gofQfWbXWkIY3DGJuW4+GWSZiIKe2rzHdHBbiOKChj3bQ7yIbBkI2ZRncsh9xy2AALPCUqKfGBqE84cI1e4z4jNfOf; AWSALB=dnSiGdlf4r0VRIFYKhrbsNzeFUjZdzrGH5QoZcyYH9+4WbT2FoGxXtK0b0xF73D1xMYfkJEDMdrd86srbesbLJOEXJ9scdx9GAJc/GTEZu+zhCH3+FLPLMbtrfmP; AWSALBCORS=dnSiGdlf4r0VRIFYKhrbsNzeFUjZdzrGH5QoZcyYH9+4WbT2FoGxXtK0b0xF73D1xMYfkJEDMdrd86srbesbLJOEXJ9scdx9GAJc/GTEZu+zhCH3+FLPLMbtrfmP; ADRUM_BTa=R:0|g:ba46b8c2-4956-42ce-95eb-fb4c15c29f42|n:cat-prod_f7d9caec-f2b7-4921-8d3b-1d2bc2552176; SameSite=None; _dc_gtm_UA-3257780-1=1; QSI_HistorySession=https%3A%2F%2Fwww.cat.com%2Fcontent%2Fcatdotcom%2Fen_US%2Fproducts%2Fnew%2Fequipment.html~1620632864483%7Chttps%3A%2F%2Fwww.cat.com%2Fen_US%2Fproducts%2Fnew%2Fequipment%2Fexcavators%2Ffrontless-excavators%2F1000005962.html~1620634921025%7Chttps%3A%2F%2Fwww.cat.com%2Fen_US%2Fproducts%2Fnew%2Fequipment%2Fexcavators.html%3Fpage%3D5~1620719325005%7Chttps%3A%2F%2Fwww.cat.com%2Fen_US%2Fproducts%2Fnew%2Fequipment%2Fexcavators%2Fmini-excavators%2F18099279.html~1620719378257%7Chttps%3A%2F%2Fwww.cat.com%2Fen_US%2Fproducts%2Fnew%2Fequipment%2Fexcavators.html%3Fpage%3D5~1620719390780%7Chttps%3A%2F%2Fwww.cat.com%2Fen_US%2Fproducts%2Fnew%2Fequipment%2Fexcavators%2Ffrontless-excavators%2F1000005964.html~1620719401267%7Chttps%3A%2F%2Fwww.cat.com%2Fcontent%2Fcatdotcom%2Fen_US%2Fproducts%2Fnew%2Fequipment.html~1620726728529%7Chttps%3A%2F%2Fwww.cat.com%2Fen_US%2Fproducts%2Fnew%2Fequipment%2Fexcavators%2Ffrontless-excavators%2F1000005964.html~1620726775855%7Chttps%3A%2F%2Fwww.cat.com%2Fen_US%2Fproducts%2Fnew%2Fequipment%2Fexcavators.html%3Fpage%3D5~1620726801767%7Chttps%3A%2F%2Fwww.cat.com%2Fcontent%2Fcatdotcom%2Fen_US%2Fproducts%2Fnew%2Fequipment.html~1620733861114%7Chttps%3A%2F%2Fwww.cat.com%2Fen_US%2Fproducts%2Fnew%2Fequipment%2Fdozers.html~1620733868142%7Chttps%3A%2F%2Fwww.cat.com%2Fen_US%2Fproducts%2Fnew%2Fequipment%2Fdozers%2Fmedium-dozers%2F15969993.html~1620733890784%7Chttps%3A%2F%2Fwww.cat.com%2Fen_US%2Fproducts%2Fnew%2Fequipment%2Fexcavators.html%3Fpage%3D5~1620738537787%7Chttps%3A%2F%2Fwww.cat.com%2Fen_US%2Fproducts%2Fnew%2Fequipment%2Fexcavators%2Fmini-excavators%2F18099279.html~1620738549328%7Chttps%3A%2F%2Fwww.cat.com%2Fen_US%2Fproducts%2Fnew%2Fequipment.html~1620738940570%7Chttps%3A%2F%2Fwww.cat.com%2Fen_US%2Fproducts%2Fnew%2Fequipment%2Farticulated-trucks.html~1620739010286%7Chttps%3A%2F%2Fwww.cat.com%2Fen_US%2Fproducts%2Fnew%2Fequipment.html~1620739347518; _gat_UA-3257780-1=1; bm_sv=937F9E91044D7E004FFE6D668FCEA57F~BvT5VBPwcFBCHiJHQl3if/rX5LFSG4X+1YlOHscPM2HtuaXR4CL6vBFn6hQP1bCIkoKEsUxtGx7SqvRjVg8XJx+DLwfWn3FifZlD6uoPvORnRDSZXUGybAnC8eODD23w4OmdVybuPJFBV0Jq4gffkA==\n",
    "pragma: no-cache\n",
    "referer: https://www.cat.com/en_US/products/new/equipment.html\n",
    "sec-ch-ua: \" Not A;Brand\";v=\"99\", \"Chromium\";v=\"90\", \"Google Chrome\";v=\"90\"\n",
    "sec-ch-ua-mobile: ?0\n",
    "sec-fetch-dest: empty\n",
    "sec-fetch-mode: cors\n",
    "sec-fetch-site: same-origin\n",
    "user-agent: Mozilla/5.0 (Windows NT 10.0; Win64; x64) AppleWebKit/537.36 (KHTML, like Gecko) Chrome/90.0.4430.93 Safari/537.36\n",
    "x-requested-with: XMLHttpRequest\"\"\"\n",
    "\n",
    "headers=dict(i.split(': ') for i in headers.split('\\n'))\n",
    "names = r.get(url, headers=headers).json()\n",
    "names.keys()\n",
    "equipment = pd.json_normalize(names['models'])\n"
   ]
  },
  {
   "cell_type": "markdown",
   "metadata": {},
   "source": [
    "```Get list of all the equipment names```"
   ]
  },
  {
   "cell_type": "code",
   "execution_count": 68,
   "metadata": {},
   "outputs": [],
   "source": [
    "def equi_name(x):\n",
    "    names_lst = []\n",
    "    names_lst.append(x)\n",
    "    return list(set(names_lst))\n",
    "\n"
   ]
  },
  {
   "cell_type": "code",
   "execution_count": 69,
   "metadata": {},
   "outputs": [],
   "source": [
    "equi = equipment['family_name'].apply(equi_name)"
   ]
  },
  {
   "cell_type": "code",
   "execution_count": 70,
   "metadata": {},
   "outputs": [
    {
     "data": {
      "text/plain": [
       "0                       [Articulated Trucks]\n",
       "1                           [Asphalt Pavers]\n",
       "2                          [Backhoe Loaders]\n",
       "3                             [Cold Planers]\n",
       "4                               [Compactors]\n",
       "5                                   [Dozers]\n",
       "6                                [Draglines]\n",
       "7                                   [Drills]\n",
       "8                    [Electric Rope Shovels]\n",
       "9                               [Excavators]\n",
       "10                         [Forest Machines]\n",
       "11                [Hydraulic Mining Shovels]\n",
       "12                       [Material Handlers]\n",
       "13                           [Motor Graders]\n",
       "14                      [Off-Highway Trucks]\n",
       "15                              [Pipelayers]\n",
       "16                         [Road Reclaimers]\n",
       "17    [Skid Steer and Compact Track Loaders]\n",
       "18                            [Telehandlers]\n",
       "19                           [Track Loaders]\n",
       "20                 [Underground - Hard Rock]\n",
       "21                  [Underground - Longwall]\n",
       "22                        [Utility Vehicles]\n",
       "23                           [Wheel Loaders]\n",
       "24                  [Wheel Tractor-Scrapers]\n",
       "Name: family_name, dtype: object"
      ]
     },
     "execution_count": 70,
     "metadata": {},
     "output_type": "execute_result"
    }
   ],
   "source": [
    "equi"
   ]
  },
  {
   "cell_type": "markdown",
   "metadata": {},
   "source": [
    "``` Get equipment names in the same format as in link```"
   ]
  },
  {
   "cell_type": "code",
   "execution_count": 71,
   "metadata": {},
   "outputs": [],
   "source": [
    "\n",
    "def org_name(x):\n",
    "    names = []\n",
    "    for t in range(len(x)):\n",
    "        for i in x[t] :\n",
    "            i = i.replace(\" - \",\" \")\n",
    "            names.append(i.replace('\"',\"\").replace(' ', '-').lower())\n",
    "\n",
    "    return names\n",
    "    \n",
    "names = org_name(equi)"
   ]
  },
  {
   "cell_type": "code",
   "execution_count": 72,
   "metadata": {
    "scrolled": true
   },
   "outputs": [
    {
     "data": {
      "text/plain": [
       "['articulated-trucks',\n",
       " 'asphalt-pavers',\n",
       " 'backhoe-loaders',\n",
       " 'cold-planers',\n",
       " 'compactors',\n",
       " 'dozers',\n",
       " 'draglines',\n",
       " 'drills',\n",
       " 'electric-rope-shovels',\n",
       " 'excavators',\n",
       " 'forest-machines',\n",
       " 'hydraulic-mining-shovels',\n",
       " 'material-handlers',\n",
       " 'motor-graders',\n",
       " 'off-highway-trucks',\n",
       " 'pipelayers',\n",
       " 'road-reclaimers',\n",
       " 'skid-steer-and-compact-track-loaders',\n",
       " 'telehandlers',\n",
       " 'track-loaders',\n",
       " 'underground-hard-rock',\n",
       " 'underground-longwall',\n",
       " 'utility-vehicles',\n",
       " 'wheel-loaders',\n",
       " 'wheel-tractor-scrapers']"
      ]
     },
     "execution_count": 72,
     "metadata": {},
     "output_type": "execute_result"
    }
   ],
   "source": [
    "names"
   ]
  },
  {
   "cell_type": "markdown",
   "metadata": {},
   "source": [
    "```2th Task :```\n",
    "\n",
    "    Get all the equipments names"
   ]
  },
  {
   "cell_type": "code",
   "execution_count": 73,
   "metadata": {
    "collapsed": true
   },
   "outputs": [
    {
     "name": "stdout",
     "output_type": "stream",
     "text": [
      "Page articulated-trucks (0/24) is finished\n",
      "Page asphalt-pavers (1/24) is finished\n",
      "Page backhoe-loaders (2/24) is finished\n",
      "Page cold-planers (3/24) is finished\n",
      "Page compactors (4/24) is finished\n",
      "Page dozers (5/24) is finished\n",
      "Page draglines (6/24) is finished\n",
      "Page drills (7/24) is finished\n",
      "Page electric-rope-shovels (8/24) is finished\n",
      "Page excavators (9/24) is finished\n",
      "Page forest-machines (10/24) is finished\n",
      "Page hydraulic-mining-shovels (11/24) is finished\n",
      "Page material-handlers (12/24) is finished\n",
      "Page motor-graders (13/24) is finished\n",
      "Page off-highway-trucks (14/24) is finished\n",
      "Page pipelayers (15/24) is finished\n",
      "Page road-reclaimers (16/24) is finished\n",
      "Page skid-steer-and-compact-track-loaders (17/24) is finished\n",
      "Page telehandlers (18/24) is finished\n",
      "Page track-loaders (19/24) is finished\n",
      "Page underground-hard-rock (20/24) is finished\n",
      "Page underground-longwall (21/24) is finished\n",
      "Page utility-vehicles (22/24) is finished\n",
      "Page wheel-loaders (23/24) is finished\n",
      "Page wheel-tractor-scrapers (24/24) is finished\n"
     ]
    }
   ],
   "source": [
    "dft = pd.DataFrame()\n",
    "\n",
    "for i in names:\n",
    "                   \n",
    "        url = f\"https://www.cat.com/en_US/products/new/equipment/{i}/_jcr_content.feed.json\"\n",
    "        headers = f\"\"\"accept: application/json, text/javascript, */*; q=0.01\n",
    "accept-encoding: gzip, deflate, br\n",
    "accept-language: fr-FR,fr;q=0.9,en-US;q=0.8,en;q=0.7,pt-BR;q=0.6,pt;q=0.5\n",
    "cache-control: no-cache\n",
    "cookie: cookie-consent-status=accepted; localePage=/fr_FR.html; _ym_uid=1619679846389344437; _ym_d=1619679846; QSI_SI_8JinsZNoQtLWrYN_intercept=true; _ga=GA1.2.69569787.1619785196; _evga_778c={{%22uuid%22:%22f5f6177157e2974d%22}}; _gid=GA1.2.1311035109.1620632771; __utmzz=%3Futm_campaign%3D(not%20set); __utmzses=session; _ym_isad=2; _gaexp=GAX1.2.o743T5FLRXmHqCh9ec7G4w.18812.0!KjzI7NNFSX-40_b72K8XaQ.18819.0!Tj-XGR4kQQWfzKtZkTO0TA.18819.4!mLdyIydOSRerwFCcUnBKIg.18847.0!QYn1UVYZRo2sRa9sYRHgQQ.18770.0; JSESSIONID=node01lm0q630z04lo1a44dmzuae2eo3448013.node0; ak_bmsc=D5859D50B860950F7FEF9BD63B4637D1685974CA422C0000E2819A6013882F68~plYyXMCYe2FreqV+zVgFio/U2hg+mpZ/NjpYDox/PZQDWrSKiXWm6n0Xcy27eqQa7P+z3kG9CmeMBBu/4b3J7Pm+t6qrsSZ32x9Sn3jn+7rwnpTdtNJtRwuWB9lQ7hBWTZIvthorpxLBb4I+GjsfDjopDmEIfmMEuiGyEZ9N6aOfwcTpJIatYUigSTjhTe8y57/Zw4eMEA+1Y3wGH0981fcDT/b6ANJt77j0yNOJp2/dA=; _gat_UA-3257780-1=1; _dc_gtm_UA-3257780-1=1; SameSite=None; QSI_HistorySession=https%3A%2F%2Fwww.cat.com%2Fcontent%2Fcatdotcom%2Fen_US%2Fproducts%2Fnew%2Fequipment%2Fexcavators.html~1620632857103%7Chttps%3A%2F%2Fwww.cat.com%2Fcontent%2Fcatdotcom%2Fen_US%2Fproducts%2Fnew%2Fequipment.html~1620632864483%7Chttps%3A%2F%2Fwww.cat.com%2Fen_US%2Fproducts%2Fnew%2Fequipment%2Fexcavators%2Ffrontless-excavators%2F1000005962.html~1620634921025%7Chttps%3A%2F%2Fwww.cat.com%2Fen_US%2Fproducts%2Fnew%2Fequipment%2Fexcavators.html%3Fpage%3D5~1620719325005%7Chttps%3A%2F%2Fwww.cat.com%2Fen_US%2Fproducts%2Fnew%2Fequipment%2Fexcavators%2Fmini-excavators%2F18099279.html~1620719378257%7Chttps%3A%2F%2Fwww.cat.com%2Fen_US%2Fproducts%2Fnew%2Fequipment%2Fexcavators.html%3Fpage%3D5~1620719390780%7Chttps%3A%2F%2Fwww.cat.com%2Fen_US%2Fproducts%2Fnew%2Fequipment%2Fexcavators%2Ffrontless-excavators%2F1000005964.html~1620719401267%7Chttps%3A%2F%2Fwww.cat.com%2Fcontent%2Fcatdotcom%2Fen_US%2Fproducts%2Fnew%2Fequipment.html~1620726728529%7Chttps%3A%2F%2Fwww.cat.com%2Fen_US%2Fproducts%2Fnew%2Fequipment%2Fexcavators%2Ffrontless-excavators%2F1000005964.html~1620726775855%7Chttps%3A%2F%2Fwww.cat.com%2Fen_US%2Fproducts%2Fnew%2Fequipment%2Fexcavators.html%3Fpage%3D5~1620726801767%7Chttps%3A%2F%2Fwww.cat.com%2Fcontent%2Fcatdotcom%2Fen_US%2Fproducts%2Fnew%2Fequipment.html~1620733861114%7Chttps%3A%2F%2Fwww.cat.com%2Fen_US%2Fproducts%2Fnew%2Fequipment%2Fdozers.html~1620733868142%7Chttps%3A%2F%2Fwww.cat.com%2Fen_US%2Fproducts%2Fnew%2Fequipment%2Fdozers%2Fmedium-dozers%2F15969993.html~1620733890784%7Chttps%3A%2F%2Fwww.cat.com%2Fen_US%2Fproducts%2Fnew%2Fequipment%2Fexcavators.html%3Fpage%3D5~1620738537787%7Chttps%3A%2F%2Fwww.cat.com%2Fen_US%2Fproducts%2Fnew%2Fequipment%2Fexcavators%2Fmini-excavators%2F18099279.html~1620738549328%7Chttps%3A%2F%2Fwww.cat.com%2Fen_US%2Fproducts%2Fnew%2Fequipment.html~1620738940570%7Chttps%3A%2F%2Fwww.cat.com%2Fen_US%2Fproducts%2Fnew%2Fequipment%2Farticulated-trucks.html~1620739010286; AWSALBTG=VBMjD66xWd+K5tpMs4mbh4wAnCKjoaj5IX8n5UsJxCbSFFA6mxVR0gmDyzhXpykwLI/K5R2t8DS5Zd6O/IX+mF8jSOlhrHY/ewU+U84wxjTyLrFK9vUoxEk4BlR2zEgYIG1Ox9IYwATZI8WmdjeuG/O0HyeADmDjWMWdtRKQcKTt; AWSALBTGCORS=VBMjD66xWd+K5tpMs4mbh4wAnCKjoaj5IX8n5UsJxCbSFFA6mxVR0gmDyzhXpykwLI/K5R2t8DS5Zd6O/IX+mF8jSOlhrHY/ewU+U84wxjTyLrFK9vUoxEk4BlR2zEgYIG1Ox9IYwATZI8WmdjeuG/O0HyeADmDjWMWdtRKQcKTt; AWSALB=BrdpG/OPxOPE7kjKh8qV7uoYY9Zxf2E8Z1o1kvwADTxYAkP8yaS52c+t2W8ZQI2pSVqNJpnP2+fu2TuQAe096uyfRdXrbOm7vy95uZsfaI9K9GZRozOJG7hNptTr; AWSALBCORS=BrdpG/OPxOPE7kjKh8qV7uoYY9Zxf2E8Z1o1kvwADTxYAkP8yaS52c+t2W8ZQI2pSVqNJpnP2+fu2TuQAe096uyfRdXrbOm7vy95uZsfaI9K9GZRozOJG7hNptTr; ADRUM_BTa=R:0|g:9c5e4c74-469c-4f9f-97c4-01bd46aca874|n:cat-prod_f7d9caec-f2b7-4921-8d3b-1d2bc2552176; bm_sv=937F9E91044D7E004FFE6D668FCEA57F~BvT5VBPwcFBCHiJHQl3if/rX5LFSG4X+1YlOHscPM2HtuaXR4CL6vBFn6hQP1bCIkoKEsUxtGx7SqvRjVg8XJx+DLwfWn3FifZlD6uoPvOTAmEdupTAWEIxUYr07XGZiClg6nxixKS0/XB9ii6AlWw==\n",
    "pragma: no-cache\n",
    "referer: https://www.cat.com/en_US/products/new/equipment/{i}.html\n",
    "sec-ch-ua: \" Not A;Brand\";v=\"99\", \"Chromium\";v=\"90\", \"Google Chrome\";v=\"90\"\n",
    "sec-ch-ua-mobile: ?0\n",
    "sec-fetch-dest: empty\n",
    "sec-fetch-mode: cors\n",
    "sec-fetch-site: same-origin\n",
    "user-agent: Mozilla/5.0 (Windows NT 10.0; Win64; x64) AppleWebKit/537.36 (KHTML, like Gecko) Chrome/90.0.4430.93 Safari/537.36\n",
    "x-requested-with: XMLHttpRequest\"\"\"\n",
    "        \n",
    "        headers = str(headers)\n",
    "        headers=dict(t.split(': ') for t in headers.split('\\n'))\n",
    "        data = r.get(url, headers=headers).json()\n",
    "        df = pd.json_normalize(data['models'])\n",
    "        dft=dft.append(df)\n",
    "        time.sleep(1)\n",
    "        print(f\"Page {i} (%s/24) is finished\"%names.index(i))\n",
    "    "
   ]
  },
  {
   "cell_type": "code",
   "execution_count": 78,
   "metadata": {},
   "outputs": [
    {
     "name": "stderr",
     "output_type": "stream",
     "text": [
      "100%|██████████████████████████████████████████████████████████████████████████████████| 25/25 [00:04<00:00,  6.04it/s]\n"
     ]
    }
   ],
   "source": [
    "dft = pd.DataFrame()\n",
    "\n",
    "for i in tqdm(names):\n",
    "                   \n",
    "        url = f\"https://www.cat.com/en_US/products/new/equipment/{i}/_jcr_content.feed.json\"\n",
    "        headers = f\"\"\"accept: application/json, text/javascript, */*; q=0.01\n",
    "accept-encoding: gzip, deflate, br\n",
    "accept-language: fr-FR,fr;q=0.9,en-US;q=0.8,en;q=0.7,pt-BR;q=0.6,pt;q=0.5\n",
    "cache-control: no-cache\n",
    "cookie: cookie-consent-status=accepted; localePage=/fr_FR.html; _ym_uid=1619679846389344437; _ym_d=1619679846; QSI_SI_8JinsZNoQtLWrYN_intercept=true; _ga=GA1.2.69569787.1619785196; _evga_778c={{%22uuid%22:%22f5f6177157e2974d%22}}; _gid=GA1.2.1311035109.1620632771; __utmzz=%3Futm_campaign%3D(not%20set); __utmzses=session; _ym_isad=2; _gaexp=GAX1.2.o743T5FLRXmHqCh9ec7G4w.18812.0!KjzI7NNFSX-40_b72K8XaQ.18819.0!Tj-XGR4kQQWfzKtZkTO0TA.18819.4!mLdyIydOSRerwFCcUnBKIg.18847.0!QYn1UVYZRo2sRa9sYRHgQQ.18770.0; JSESSIONID=node01lm0q630z04lo1a44dmzuae2eo3448013.node0; ak_bmsc=D5859D50B860950F7FEF9BD63B4637D1685974CA422C0000E2819A6013882F68~plYyXMCYe2FreqV+zVgFio/U2hg+mpZ/NjpYDox/PZQDWrSKiXWm6n0Xcy27eqQa7P+z3kG9CmeMBBu/4b3J7Pm+t6qrsSZ32x9Sn3jn+7rwnpTdtNJtRwuWB9lQ7hBWTZIvthorpxLBb4I+GjsfDjopDmEIfmMEuiGyEZ9N6aOfwcTpJIatYUigSTjhTe8y57/Zw4eMEA+1Y3wGH0981fcDT/b6ANJt77j0yNOJp2/dA=; _gat_UA-3257780-1=1; _dc_gtm_UA-3257780-1=1; SameSite=None; QSI_HistorySession=https%3A%2F%2Fwww.cat.com%2Fcontent%2Fcatdotcom%2Fen_US%2Fproducts%2Fnew%2Fequipment%2Fexcavators.html~1620632857103%7Chttps%3A%2F%2Fwww.cat.com%2Fcontent%2Fcatdotcom%2Fen_US%2Fproducts%2Fnew%2Fequipment.html~1620632864483%7Chttps%3A%2F%2Fwww.cat.com%2Fen_US%2Fproducts%2Fnew%2Fequipment%2Fexcavators%2Ffrontless-excavators%2F1000005962.html~1620634921025%7Chttps%3A%2F%2Fwww.cat.com%2Fen_US%2Fproducts%2Fnew%2Fequipment%2Fexcavators.html%3Fpage%3D5~1620719325005%7Chttps%3A%2F%2Fwww.cat.com%2Fen_US%2Fproducts%2Fnew%2Fequipment%2Fexcavators%2Fmini-excavators%2F18099279.html~1620719378257%7Chttps%3A%2F%2Fwww.cat.com%2Fen_US%2Fproducts%2Fnew%2Fequipment%2Fexcavators.html%3Fpage%3D5~1620719390780%7Chttps%3A%2F%2Fwww.cat.com%2Fen_US%2Fproducts%2Fnew%2Fequipment%2Fexcavators%2Ffrontless-excavators%2F1000005964.html~1620719401267%7Chttps%3A%2F%2Fwww.cat.com%2Fcontent%2Fcatdotcom%2Fen_US%2Fproducts%2Fnew%2Fequipment.html~1620726728529%7Chttps%3A%2F%2Fwww.cat.com%2Fen_US%2Fproducts%2Fnew%2Fequipment%2Fexcavators%2Ffrontless-excavators%2F1000005964.html~1620726775855%7Chttps%3A%2F%2Fwww.cat.com%2Fen_US%2Fproducts%2Fnew%2Fequipment%2Fexcavators.html%3Fpage%3D5~1620726801767%7Chttps%3A%2F%2Fwww.cat.com%2Fcontent%2Fcatdotcom%2Fen_US%2Fproducts%2Fnew%2Fequipment.html~1620733861114%7Chttps%3A%2F%2Fwww.cat.com%2Fen_US%2Fproducts%2Fnew%2Fequipment%2Fdozers.html~1620733868142%7Chttps%3A%2F%2Fwww.cat.com%2Fen_US%2Fproducts%2Fnew%2Fequipment%2Fdozers%2Fmedium-dozers%2F15969993.html~1620733890784%7Chttps%3A%2F%2Fwww.cat.com%2Fen_US%2Fproducts%2Fnew%2Fequipment%2Fexcavators.html%3Fpage%3D5~1620738537787%7Chttps%3A%2F%2Fwww.cat.com%2Fen_US%2Fproducts%2Fnew%2Fequipment%2Fexcavators%2Fmini-excavators%2F18099279.html~1620738549328%7Chttps%3A%2F%2Fwww.cat.com%2Fen_US%2Fproducts%2Fnew%2Fequipment.html~1620738940570%7Chttps%3A%2F%2Fwww.cat.com%2Fen_US%2Fproducts%2Fnew%2Fequipment%2Farticulated-trucks.html~1620739010286; AWSALBTG=VBMjD66xWd+K5tpMs4mbh4wAnCKjoaj5IX8n5UsJxCbSFFA6mxVR0gmDyzhXpykwLI/K5R2t8DS5Zd6O/IX+mF8jSOlhrHY/ewU+U84wxjTyLrFK9vUoxEk4BlR2zEgYIG1Ox9IYwATZI8WmdjeuG/O0HyeADmDjWMWdtRKQcKTt; AWSALBTGCORS=VBMjD66xWd+K5tpMs4mbh4wAnCKjoaj5IX8n5UsJxCbSFFA6mxVR0gmDyzhXpykwLI/K5R2t8DS5Zd6O/IX+mF8jSOlhrHY/ewU+U84wxjTyLrFK9vUoxEk4BlR2zEgYIG1Ox9IYwATZI8WmdjeuG/O0HyeADmDjWMWdtRKQcKTt; AWSALB=BrdpG/OPxOPE7kjKh8qV7uoYY9Zxf2E8Z1o1kvwADTxYAkP8yaS52c+t2W8ZQI2pSVqNJpnP2+fu2TuQAe096uyfRdXrbOm7vy95uZsfaI9K9GZRozOJG7hNptTr; AWSALBCORS=BrdpG/OPxOPE7kjKh8qV7uoYY9Zxf2E8Z1o1kvwADTxYAkP8yaS52c+t2W8ZQI2pSVqNJpnP2+fu2TuQAe096uyfRdXrbOm7vy95uZsfaI9K9GZRozOJG7hNptTr; ADRUM_BTa=R:0|g:9c5e4c74-469c-4f9f-97c4-01bd46aca874|n:cat-prod_f7d9caec-f2b7-4921-8d3b-1d2bc2552176; bm_sv=937F9E91044D7E004FFE6D668FCEA57F~BvT5VBPwcFBCHiJHQl3if/rX5LFSG4X+1YlOHscPM2HtuaXR4CL6vBFn6hQP1bCIkoKEsUxtGx7SqvRjVg8XJx+DLwfWn3FifZlD6uoPvOTAmEdupTAWEIxUYr07XGZiClg6nxixKS0/XB9ii6AlWw==\n",
    "pragma: no-cache\n",
    "referer: https://www.cat.com/en_US/products/new/equipment/{i}.html\n",
    "sec-ch-ua: \" Not A;Brand\";v=\"99\", \"Chromium\";v=\"90\", \"Google Chrome\";v=\"90\"\n",
    "sec-ch-ua-mobile: ?0\n",
    "sec-fetch-dest: empty\n",
    "sec-fetch-mode: cors\n",
    "sec-fetch-site: same-origin\n",
    "user-agent: Mozilla/5.0 (Windows NT 10.0; Win64; x64) AppleWebKit/537.36 (KHTML, like Gecko) Chrome/90.0.4430.93 Safari/537.36\n",
    "x-requested-with: XMLHttpRequest\"\"\"\n",
    "        \n",
    "        headers = str(headers)\n",
    "        headers=dict(t.split(': ') for t in headers.split('\\n'))\n",
    "        data = r.get(url, headers=headers).json()\n",
    "        df = pd.json_normalize(data['models'])\n",
    "        dft=dft.append(df)\n",
    "        #time.sleep(1)\n",
    "        #print(f\"Page {i} (%s/24) is finished\"%names.index(i))\n",
    "    "
   ]
  },
  {
   "cell_type": "code",
   "execution_count": 79,
   "metadata": {},
   "outputs": [],
   "source": [
    "dftotal = dft.copy()"
   ]
  },
  {
   "cell_type": "code",
   "execution_count": 80,
   "metadata": {
    "scrolled": false
   },
   "outputs": [
    {
     "data": {
      "text/plain": [
       "384"
      ]
     },
     "execution_count": 80,
     "metadata": {},
     "output_type": "execute_result"
    }
   ],
   "source": [
    "len(dftotal)"
   ]
  },
  {
   "cell_type": "markdown",
   "metadata": {},
   "source": [
    "```Let's explore it and clean it```"
   ]
  },
  {
   "cell_type": "code",
   "execution_count": 81,
   "metadata": {
    "scrolled": true
   },
   "outputs": [
    {
     "data": {
      "text/plain": [
       "GCI                     133\n",
       "BCP                      89\n",
       "Mining                   82\n",
       "Paving                   74\n",
       "Forestry                  3\n",
       "Industrail OEM            2\n",
       "Industrial and Waste      1\n",
       "Name: businessUnit, dtype: int64"
      ]
     },
     "execution_count": 81,
     "metadata": {},
     "output_type": "execute_result"
    }
   ],
   "source": [
    "dftotal.businessUnit.value_counts()"
   ]
  },
  {
   "cell_type": "code",
   "execution_count": 82,
   "metadata": {
    "scrolled": true
   },
   "outputs": [
    {
     "data": {
      "text/plain": [
       "Build    384\n",
       "Name: buildQuoteMob, dtype: int64"
      ]
     },
     "execution_count": 82,
     "metadata": {},
     "output_type": "execute_result"
    }
   ],
   "source": [
    "dftotal.buildQuoteMob.value_counts()"
   ]
  },
  {
   "cell_type": "code",
   "execution_count": 83,
   "metadata": {},
   "outputs": [],
   "source": [
    "dftotal.drop('buildQuoteMob', axis=1, inplace=True)"
   ]
  },
  {
   "cell_type": "code",
   "execution_count": 84,
   "metadata": {},
   "outputs": [],
   "source": [
    "dftotal.drop(['compare_url','image_url','buildAndPricePC'], axis=1, inplace=True)"
   ]
  },
  {
   "cell_type": "code",
   "execution_count": 85,
   "metadata": {},
   "outputs": [],
   "source": [
    "dftotal.drop(['dealers', 'filters',\n",
    "       'listOfPrices', 'priceList'], axis=1, inplace=True)"
   ]
  },
  {
   "cell_type": "code",
   "execution_count": 86,
   "metadata": {
    "scrolled": true
   },
   "outputs": [],
   "source": [
    "dftotal.drop(['small_image_url',\n",
    "       'itemtype', 'msrp', 'isBCP', 'sort_order',\n",
    "       'brand', 'longDesc', 'buildQuote'], axis=1, inplace=True)"
   ]
  },
  {
   "cell_type": "code",
   "execution_count": 87,
   "metadata": {
    "scrolled": true
   },
   "outputs": [
    {
     "data": {
      "text/plain": [
       "Index(['detail_url', 'businessUnit', 'idmodel', 'familyId', 'specs',\n",
       "       'model_name', 'family'],\n",
       "      dtype='object')"
      ]
     },
     "execution_count": 87,
     "metadata": {},
     "output_type": "execute_result"
    }
   ],
   "source": [
    "dftotal.columns"
   ]
  },
  {
   "cell_type": "code",
   "execution_count": 88,
   "metadata": {},
   "outputs": [
    {
     "data": {
      "text/html": [
       "<div>\n",
       "<style scoped>\n",
       "    .dataframe tbody tr th:only-of-type {\n",
       "        vertical-align: middle;\n",
       "    }\n",
       "\n",
       "    .dataframe tbody tr th {\n",
       "        vertical-align: top;\n",
       "    }\n",
       "\n",
       "    .dataframe thead th {\n",
       "        text-align: right;\n",
       "    }\n",
       "</style>\n",
       "<table border=\"1\" class=\"dataframe\">\n",
       "  <thead>\n",
       "    <tr style=\"text-align: right;\">\n",
       "      <th></th>\n",
       "      <th>detail_url</th>\n",
       "      <th>businessUnit</th>\n",
       "      <th>idmodel</th>\n",
       "      <th>familyId</th>\n",
       "      <th>specs</th>\n",
       "      <th>model_name</th>\n",
       "      <th>family</th>\n",
       "    </tr>\n",
       "  </thead>\n",
       "  <tbody>\n",
       "    <tr>\n",
       "      <th>0</th>\n",
       "      <td>/en_US/products/new/equipment/articulated-truc...</td>\n",
       "      <td>GCI</td>\n",
       "      <td>1000005091</td>\n",
       "      <td>articulated-truck-bare-chassis</td>\n",
       "      <td>[{'spec_name': 'Standard Wheel Base', 'spec_va...</td>\n",
       "      <td>725C2 Bare Chassis</td>\n",
       "      <td>Articulated Truck Bare Chassis</td>\n",
       "    </tr>\n",
       "    <tr>\n",
       "      <th>1</th>\n",
       "      <td>/en_US/products/new/equipment/articulated-truc...</td>\n",
       "      <td>GCI</td>\n",
       "      <td>1000005090</td>\n",
       "      <td>articulated-truck-bare-chassis</td>\n",
       "      <td>[{'spec_name': 'Standard Wheel Base', 'spec_va...</td>\n",
       "      <td>730C2 Bare Chassis</td>\n",
       "      <td>Articulated Truck Bare Chassis</td>\n",
       "    </tr>\n",
       "    <tr>\n",
       "      <th>2</th>\n",
       "      <td>/en_US/products/new/equipment/articulated-truc...</td>\n",
       "      <td>GCI</td>\n",
       "      <td>101640</td>\n",
       "      <td>three-axle-articulated-trucks</td>\n",
       "      <td>[{'spec_name': 'Engine Model', 'spec_value': [...</td>\n",
       "      <td>725</td>\n",
       "      <td>Three Axle Articulated Trucks</td>\n",
       "    </tr>\n",
       "    <tr>\n",
       "      <th>3</th>\n",
       "      <td>/en_US/products/new/equipment/articulated-truc...</td>\n",
       "      <td>GCI</td>\n",
       "      <td>15969812</td>\n",
       "      <td>three-axle-articulated-trucks</td>\n",
       "      <td>[{'spec_name': 'Engine Model', 'spec_value': [...</td>\n",
       "      <td>730</td>\n",
       "      <td>Three Axle Articulated Trucks</td>\n",
       "    </tr>\n",
       "    <tr>\n",
       "      <th>4</th>\n",
       "      <td>/en_US/products/new/equipment/articulated-truc...</td>\n",
       "      <td>GCI</td>\n",
       "      <td>15969817</td>\n",
       "      <td>three-axle-articulated-trucks</td>\n",
       "      <td>[{'spec_name': 'Engine Model', 'spec_value': [...</td>\n",
       "      <td>730 EJ</td>\n",
       "      <td>Three Axle Articulated Trucks</td>\n",
       "    </tr>\n",
       "    <tr>\n",
       "      <th>5</th>\n",
       "      <td>/en_US/products/new/equipment/articulated-truc...</td>\n",
       "      <td>GCI</td>\n",
       "      <td>15969807</td>\n",
       "      <td>three-axle-articulated-trucks</td>\n",
       "      <td>[{'spec_name': 'Engine Model', 'spec_value': [...</td>\n",
       "      <td>735</td>\n",
       "      <td>Three Axle Articulated Trucks</td>\n",
       "    </tr>\n",
       "    <tr>\n",
       "      <th>6</th>\n",
       "      <td>/en_US/products/new/equipment/articulated-truc...</td>\n",
       "      <td>GCI</td>\n",
       "      <td>1000034268</td>\n",
       "      <td>three-axle-articulated-trucks</td>\n",
       "      <td>[{'spec_name': 'Engine Model', 'spec_value': [...</td>\n",
       "      <td>740 EJ</td>\n",
       "      <td>Three Axle Articulated Trucks</td>\n",
       "    </tr>\n",
       "    <tr>\n",
       "      <th>7</th>\n",
       "      <td>/en_US/products/new/equipment/articulated-truc...</td>\n",
       "      <td>GCI</td>\n",
       "      <td>302717362097310</td>\n",
       "      <td>three-axle-articulated-trucks</td>\n",
       "      <td>[{'spec_name': 'Engine Model', 'spec_value': [...</td>\n",
       "      <td>740 GC</td>\n",
       "      <td>Three Axle Articulated Trucks</td>\n",
       "    </tr>\n",
       "    <tr>\n",
       "      <th>8</th>\n",
       "      <td>/en_US/products/new/equipment/articulated-truc...</td>\n",
       "      <td>GCI</td>\n",
       "      <td>1000032934</td>\n",
       "      <td>three-axle-articulated-trucks</td>\n",
       "      <td>[{'spec_name': 'Engine Model', 'spec_value': [...</td>\n",
       "      <td>745</td>\n",
       "      <td>Three Axle Articulated Trucks</td>\n",
       "    </tr>\n",
       "  </tbody>\n",
       "</table>\n",
       "</div>"
      ],
      "text/plain": [
       "                                          detail_url businessUnit  \\\n",
       "0  /en_US/products/new/equipment/articulated-truc...          GCI   \n",
       "1  /en_US/products/new/equipment/articulated-truc...          GCI   \n",
       "2  /en_US/products/new/equipment/articulated-truc...          GCI   \n",
       "3  /en_US/products/new/equipment/articulated-truc...          GCI   \n",
       "4  /en_US/products/new/equipment/articulated-truc...          GCI   \n",
       "5  /en_US/products/new/equipment/articulated-truc...          GCI   \n",
       "6  /en_US/products/new/equipment/articulated-truc...          GCI   \n",
       "7  /en_US/products/new/equipment/articulated-truc...          GCI   \n",
       "8  /en_US/products/new/equipment/articulated-truc...          GCI   \n",
       "\n",
       "           idmodel                        familyId  \\\n",
       "0       1000005091  articulated-truck-bare-chassis   \n",
       "1       1000005090  articulated-truck-bare-chassis   \n",
       "2           101640   three-axle-articulated-trucks   \n",
       "3         15969812   three-axle-articulated-trucks   \n",
       "4         15969817   three-axle-articulated-trucks   \n",
       "5         15969807   three-axle-articulated-trucks   \n",
       "6       1000034268   three-axle-articulated-trucks   \n",
       "7  302717362097310   three-axle-articulated-trucks   \n",
       "8       1000032934   three-axle-articulated-trucks   \n",
       "\n",
       "                                               specs          model_name  \\\n",
       "0  [{'spec_name': 'Standard Wheel Base', 'spec_va...  725C2 Bare Chassis   \n",
       "1  [{'spec_name': 'Standard Wheel Base', 'spec_va...  730C2 Bare Chassis   \n",
       "2  [{'spec_name': 'Engine Model', 'spec_value': [...                 725   \n",
       "3  [{'spec_name': 'Engine Model', 'spec_value': [...                 730   \n",
       "4  [{'spec_name': 'Engine Model', 'spec_value': [...              730 EJ   \n",
       "5  [{'spec_name': 'Engine Model', 'spec_value': [...                 735   \n",
       "6  [{'spec_name': 'Engine Model', 'spec_value': [...              740 EJ   \n",
       "7  [{'spec_name': 'Engine Model', 'spec_value': [...              740 GC   \n",
       "8  [{'spec_name': 'Engine Model', 'spec_value': [...                 745   \n",
       "\n",
       "                           family  \n",
       "0  Articulated Truck Bare Chassis  \n",
       "1  Articulated Truck Bare Chassis  \n",
       "2   Three Axle Articulated Trucks  \n",
       "3   Three Axle Articulated Trucks  \n",
       "4   Three Axle Articulated Trucks  \n",
       "5   Three Axle Articulated Trucks  \n",
       "6   Three Axle Articulated Trucks  \n",
       "7   Three Axle Articulated Trucks  \n",
       "8   Three Axle Articulated Trucks  "
      ]
     },
     "execution_count": 88,
     "metadata": {},
     "output_type": "execute_result"
    }
   ],
   "source": [
    "dftotal.loc[dftotal.familyId.str.contains('articulated')]"
   ]
  },
  {
   "cell_type": "code",
   "execution_count": 89,
   "metadata": {
    "scrolled": true
   },
   "outputs": [
    {
     "data": {
      "text/html": [
       "<div>\n",
       "<style scoped>\n",
       "    .dataframe tbody tr th:only-of-type {\n",
       "        vertical-align: middle;\n",
       "    }\n",
       "\n",
       "    .dataframe tbody tr th {\n",
       "        vertical-align: top;\n",
       "    }\n",
       "\n",
       "    .dataframe thead th {\n",
       "        text-align: right;\n",
       "    }\n",
       "</style>\n",
       "<table border=\"1\" class=\"dataframe\">\n",
       "  <thead>\n",
       "    <tr style=\"text-align: right;\">\n",
       "      <th></th>\n",
       "      <th>detail_url</th>\n",
       "      <th>businessUnit</th>\n",
       "      <th>idmodel</th>\n",
       "      <th>familyId</th>\n",
       "      <th>specs</th>\n",
       "      <th>model_name</th>\n",
       "      <th>family</th>\n",
       "    </tr>\n",
       "  </thead>\n",
       "  <tbody>\n",
       "    <tr>\n",
       "      <th>0</th>\n",
       "      <td>/en_US/products/new/equipment/articulated-truc...</td>\n",
       "      <td>GCI</td>\n",
       "      <td>1000005091</td>\n",
       "      <td>articulated-truck-bare-chassis</td>\n",
       "      <td>[{'spec_name': 'Standard Wheel Base', 'spec_va...</td>\n",
       "      <td>725C2 Bare Chassis</td>\n",
       "      <td>Articulated Truck Bare Chassis</td>\n",
       "    </tr>\n",
       "    <tr>\n",
       "      <th>1</th>\n",
       "      <td>/en_US/products/new/equipment/articulated-truc...</td>\n",
       "      <td>GCI</td>\n",
       "      <td>1000005090</td>\n",
       "      <td>articulated-truck-bare-chassis</td>\n",
       "      <td>[{'spec_name': 'Standard Wheel Base', 'spec_va...</td>\n",
       "      <td>730C2 Bare Chassis</td>\n",
       "      <td>Articulated Truck Bare Chassis</td>\n",
       "    </tr>\n",
       "    <tr>\n",
       "      <th>2</th>\n",
       "      <td>/en_US/products/new/equipment/articulated-truc...</td>\n",
       "      <td>GCI</td>\n",
       "      <td>101640</td>\n",
       "      <td>three-axle-articulated-trucks</td>\n",
       "      <td>[{'spec_name': 'Engine Model', 'spec_value': [...</td>\n",
       "      <td>725</td>\n",
       "      <td>Three Axle Articulated Trucks</td>\n",
       "    </tr>\n",
       "    <tr>\n",
       "      <th>3</th>\n",
       "      <td>/en_US/products/new/equipment/articulated-truc...</td>\n",
       "      <td>GCI</td>\n",
       "      <td>15969812</td>\n",
       "      <td>three-axle-articulated-trucks</td>\n",
       "      <td>[{'spec_name': 'Engine Model', 'spec_value': [...</td>\n",
       "      <td>730</td>\n",
       "      <td>Three Axle Articulated Trucks</td>\n",
       "    </tr>\n",
       "    <tr>\n",
       "      <th>4</th>\n",
       "      <td>/en_US/products/new/equipment/articulated-truc...</td>\n",
       "      <td>GCI</td>\n",
       "      <td>15969817</td>\n",
       "      <td>three-axle-articulated-trucks</td>\n",
       "      <td>[{'spec_name': 'Engine Model', 'spec_value': [...</td>\n",
       "      <td>730 EJ</td>\n",
       "      <td>Three Axle Articulated Trucks</td>\n",
       "    </tr>\n",
       "    <tr>\n",
       "      <th>...</th>\n",
       "      <td>...</td>\n",
       "      <td>...</td>\n",
       "      <td>...</td>\n",
       "      <td>...</td>\n",
       "      <td>...</td>\n",
       "      <td>...</td>\n",
       "      <td>...</td>\n",
       "    </tr>\n",
       "    <tr>\n",
       "      <th>3</th>\n",
       "      <td>/en_US/products/new/equipment/wheel-tractor-sc...</td>\n",
       "      <td>GCI</td>\n",
       "      <td>18576136</td>\n",
       "      <td>open-bowl-scrapers</td>\n",
       "      <td>[{'spec_name': 'Flywheel Power - Tractor/Scrap...</td>\n",
       "      <td>621K</td>\n",
       "      <td>Open Bowl Scrapers</td>\n",
       "    </tr>\n",
       "    <tr>\n",
       "      <th>4</th>\n",
       "      <td>/en_US/products/new/equipment/wheel-tractor-sc...</td>\n",
       "      <td>GCI</td>\n",
       "      <td>18576180</td>\n",
       "      <td>open-bowl-scrapers</td>\n",
       "      <td>[{'spec_name': 'Flywheel Power - Tractor/Scrap...</td>\n",
       "      <td>627K</td>\n",
       "      <td>Open Bowl Scrapers</td>\n",
       "    </tr>\n",
       "    <tr>\n",
       "      <th>5</th>\n",
       "      <td>/en_US/products/new/equipment/wheel-tractor-sc...</td>\n",
       "      <td>GCI</td>\n",
       "      <td>1000020943</td>\n",
       "      <td>open-bowl-scrapers</td>\n",
       "      <td>[{'spec_name': 'Flywheel Power - Tractor/Scrap...</td>\n",
       "      <td>631K</td>\n",
       "      <td>Open Bowl Scrapers</td>\n",
       "    </tr>\n",
       "    <tr>\n",
       "      <th>6</th>\n",
       "      <td>/en_US/products/new/equipment/wheel-tractor-sc...</td>\n",
       "      <td>GCI</td>\n",
       "      <td>1000021433</td>\n",
       "      <td>open-bowl-scrapers</td>\n",
       "      <td>[{'spec_name': 'Flywheel Power - Tractor/Scrap...</td>\n",
       "      <td>637K</td>\n",
       "      <td>Open Bowl Scrapers</td>\n",
       "    </tr>\n",
       "    <tr>\n",
       "      <th>7</th>\n",
       "      <td>/en_US/products/new/equipment/wheel-tractor-sc...</td>\n",
       "      <td>GCI</td>\n",
       "      <td>15969767</td>\n",
       "      <td>open-bowl-scrapers</td>\n",
       "      <td>[{'spec_name': 'Tractor Engine', 'spec_value':...</td>\n",
       "      <td>657</td>\n",
       "      <td>Open Bowl Scrapers</td>\n",
       "    </tr>\n",
       "  </tbody>\n",
       "</table>\n",
       "<p>384 rows × 7 columns</p>\n",
       "</div>"
      ],
      "text/plain": [
       "                                           detail_url businessUnit  \\\n",
       "0   /en_US/products/new/equipment/articulated-truc...          GCI   \n",
       "1   /en_US/products/new/equipment/articulated-truc...          GCI   \n",
       "2   /en_US/products/new/equipment/articulated-truc...          GCI   \n",
       "3   /en_US/products/new/equipment/articulated-truc...          GCI   \n",
       "4   /en_US/products/new/equipment/articulated-truc...          GCI   \n",
       "..                                                ...          ...   \n",
       "3   /en_US/products/new/equipment/wheel-tractor-sc...          GCI   \n",
       "4   /en_US/products/new/equipment/wheel-tractor-sc...          GCI   \n",
       "5   /en_US/products/new/equipment/wheel-tractor-sc...          GCI   \n",
       "6   /en_US/products/new/equipment/wheel-tractor-sc...          GCI   \n",
       "7   /en_US/products/new/equipment/wheel-tractor-sc...          GCI   \n",
       "\n",
       "       idmodel                        familyId  \\\n",
       "0   1000005091  articulated-truck-bare-chassis   \n",
       "1   1000005090  articulated-truck-bare-chassis   \n",
       "2       101640   three-axle-articulated-trucks   \n",
       "3     15969812   three-axle-articulated-trucks   \n",
       "4     15969817   three-axle-articulated-trucks   \n",
       "..         ...                             ...   \n",
       "3     18576136              open-bowl-scrapers   \n",
       "4     18576180              open-bowl-scrapers   \n",
       "5   1000020943              open-bowl-scrapers   \n",
       "6   1000021433              open-bowl-scrapers   \n",
       "7     15969767              open-bowl-scrapers   \n",
       "\n",
       "                                                specs          model_name  \\\n",
       "0   [{'spec_name': 'Standard Wheel Base', 'spec_va...  725C2 Bare Chassis   \n",
       "1   [{'spec_name': 'Standard Wheel Base', 'spec_va...  730C2 Bare Chassis   \n",
       "2   [{'spec_name': 'Engine Model', 'spec_value': [...                 725   \n",
       "3   [{'spec_name': 'Engine Model', 'spec_value': [...                 730   \n",
       "4   [{'spec_name': 'Engine Model', 'spec_value': [...              730 EJ   \n",
       "..                                                ...                 ...   \n",
       "3   [{'spec_name': 'Flywheel Power - Tractor/Scrap...                621K   \n",
       "4   [{'spec_name': 'Flywheel Power - Tractor/Scrap...                627K   \n",
       "5   [{'spec_name': 'Flywheel Power - Tractor/Scrap...                631K   \n",
       "6   [{'spec_name': 'Flywheel Power - Tractor/Scrap...                637K   \n",
       "7   [{'spec_name': 'Tractor Engine', 'spec_value':...                 657   \n",
       "\n",
       "                            family  \n",
       "0   Articulated Truck Bare Chassis  \n",
       "1   Articulated Truck Bare Chassis  \n",
       "2    Three Axle Articulated Trucks  \n",
       "3    Three Axle Articulated Trucks  \n",
       "4    Three Axle Articulated Trucks  \n",
       "..                             ...  \n",
       "3               Open Bowl Scrapers  \n",
       "4               Open Bowl Scrapers  \n",
       "5               Open Bowl Scrapers  \n",
       "6               Open Bowl Scrapers  \n",
       "7               Open Bowl Scrapers  \n",
       "\n",
       "[384 rows x 7 columns]"
      ]
     },
     "execution_count": 89,
     "metadata": {},
     "output_type": "execute_result"
    }
   ],
   "source": [
    "dftotal"
   ]
  },
  {
   "cell_type": "code",
   "execution_count": 90,
   "metadata": {},
   "outputs": [
    {
     "data": {
      "text/html": [
       "<div>\n",
       "<style scoped>\n",
       "    .dataframe tbody tr th:only-of-type {\n",
       "        vertical-align: middle;\n",
       "    }\n",
       "\n",
       "    .dataframe tbody tr th {\n",
       "        vertical-align: top;\n",
       "    }\n",
       "\n",
       "    .dataframe thead th {\n",
       "        text-align: right;\n",
       "    }\n",
       "</style>\n",
       "<table border=\"1\" class=\"dataframe\">\n",
       "  <thead>\n",
       "    <tr style=\"text-align: right;\">\n",
       "      <th></th>\n",
       "      <th>detail_url</th>\n",
       "      <th>businessUnit</th>\n",
       "      <th>idmodel</th>\n",
       "      <th>familyId</th>\n",
       "      <th>specs</th>\n",
       "      <th>model_name</th>\n",
       "      <th>family</th>\n",
       "    </tr>\n",
       "  </thead>\n",
       "  <tbody>\n",
       "    <tr>\n",
       "      <th>62</th>\n",
       "      <td>/en_US/products/new/equipment/excavators/front...</td>\n",
       "      <td>Industrail OEM</td>\n",
       "      <td>1000005962</td>\n",
       "      <td>frontless-excavators</td>\n",
       "      <td>[{'spec_name': 'Engine Model', 'spec_value': [...</td>\n",
       "      <td>390F OEM</td>\n",
       "      <td>Frontless Excavators</td>\n",
       "    </tr>\n",
       "  </tbody>\n",
       "</table>\n",
       "</div>"
      ],
      "text/plain": [
       "                                           detail_url    businessUnit  \\\n",
       "62  /en_US/products/new/equipment/excavators/front...  Industrail OEM   \n",
       "\n",
       "       idmodel              familyId  \\\n",
       "62  1000005962  frontless-excavators   \n",
       "\n",
       "                                                specs model_name  \\\n",
       "62  [{'spec_name': 'Engine Model', 'spec_value': [...   390F OEM   \n",
       "\n",
       "                  family  \n",
       "62  Frontless Excavators  "
      ]
     },
     "execution_count": 90,
     "metadata": {},
     "output_type": "execute_result"
    }
   ],
   "source": [
    "dftotal.loc[dftotal.model_name.str.contains('390F')]"
   ]
  },
  {
   "cell_type": "markdown",
   "metadata": {},
   "source": [
    "```3th Task :```\n",
    "\n",
    "    Let's get all the specificity of each product   "
   ]
  },
  {
   "cell_type": "code",
   "execution_count": 91,
   "metadata": {},
   "outputs": [],
   "source": [
    "l = set(dftotal.specs.apply(lambda x: [i['spec_name'] for i in x]).sum())\n"
   ]
  },
  {
   "cell_type": "code",
   "execution_count": 92,
   "metadata": {},
   "outputs": [
    {
     "data": {
      "text/plain": [
       "{'11 Wheel Compaction Width with Bias Tire',\n",
       " '6060 AC FS - Standard Track Pads',\n",
       " 'Base Power (1st Gear) - Net',\n",
       " 'Basic Blade Width',\n",
       " 'Bit Load',\n",
       " 'Blade Capacities',\n",
       " 'Blade Width',\n",
       " 'Boom Length',\n",
       " 'Bore',\n",
       " 'Bottom Plate Thickness',\n",
       " 'Bucket Capability',\n",
       " 'Bucket Capacities',\n",
       " 'Bucket Payload',\n",
       " 'Bucket Range',\n",
       " 'CPU',\n",
       " 'Cab - ROPS/FOPS',\n",
       " 'Capacity - General Purpose',\n",
       " 'Clock Frequency',\n",
       " 'Coal Hardness',\n",
       " 'Compaction Width',\n",
       " 'Cutting Power',\n",
       " 'Cutting/Mixing Width',\n",
       " 'Deck Plate Thickness',\n",
       " 'Dig Depth',\n",
       " 'Dig Depth - Standard',\n",
       " 'Digging Depth',\n",
       " 'Dimensions Right-/Left-angle Gearbox (KP Version) - Width',\n",
       " 'Dipper Capacity',\n",
       " 'Dipper Payload',\n",
       " 'Dogbone Breaking Force',\n",
       " 'Drum Diameter',\n",
       " 'Electric Motor - Output',\n",
       " 'Emissions',\n",
       " 'Engine',\n",
       " 'Engine Gross Power - ISO 14396',\n",
       " 'Engine Model',\n",
       " 'Engine Model (1)',\n",
       " 'Engine Output - SAE J1995',\n",
       " 'Engine Power (ISO 14396)',\n",
       " 'Engine Power - ISO 14396',\n",
       " 'Engine Power - ISO 9249',\n",
       " 'Engine Power - Net SAE J1349/ISO 9249',\n",
       " 'Engine Power - Net SAE J1349/ISO 9249 - Forward',\n",
       " 'Flywheel Power',\n",
       " 'Flywheel Power - Tractor/Scraper',\n",
       " 'Frequency',\n",
       " 'Fuel Type',\n",
       " 'Gross Power',\n",
       " 'Gross Power (SAE J1995:2014)',\n",
       " 'Gross Power - 1,800 rpm',\n",
       " 'Gross Power - Basic',\n",
       " 'Gross Power - ISO 14396',\n",
       " 'Gross Power - SAE J1995',\n",
       " 'Ground Clearance',\n",
       " 'Haulage Power',\n",
       " 'Heaped (SAE 2:1)',\n",
       " 'Height - Extended',\n",
       " 'Hole Diameter',\n",
       " 'Input Voltage',\n",
       " 'Lever/Steering Wheel Weight* Tier 4',\n",
       " 'Lift Capacity',\n",
       " 'Long Wheel Base',\n",
       " 'Maximum Dig Depth',\n",
       " 'Maximum Digging Depth',\n",
       " 'Maximum Flow - Main System',\n",
       " 'Maximum Gross Power',\n",
       " 'Maximum Input Speed - Motor Speed',\n",
       " 'Maximum Installed Power',\n",
       " 'Maximum Lift Height',\n",
       " 'Maximum Operating Weight',\n",
       " 'Maximum Operational Torque',\n",
       " 'Maximum Output Torque for a Short Duration (3 sec.)',\n",
       " 'Maximum Paving Range',\n",
       " 'Maximum Paving Width',\n",
       " 'Maximum Pin Height at Stick Nose',\n",
       " 'Maximum Rated Output Torque',\n",
       " 'Maximum Reach',\n",
       " 'Maximum Swing Torque',\n",
       " 'Maximum Travel Speed',\n",
       " 'Maximum Weight at Stick Nose',\n",
       " 'Memory',\n",
       " 'Milling Width',\n",
       " 'Mining Height',\n",
       " 'Motor Stalling Torque T Motor',\n",
       " 'Net Flywheel Power',\n",
       " 'Net Power',\n",
       " 'Net Power (SAE J1349:2011)',\n",
       " 'Net Power - EEC 80/1269',\n",
       " 'Net Power - ISO 9249',\n",
       " 'Net Power - SAE J1349',\n",
       " 'Net Power @ 1,700 rpm –  ISO 9249:2007, SAE J1349:2011',\n",
       " 'Net Power Range (Tier 4)',\n",
       " 'Nominal Payload Capacity',\n",
       " 'Nominal Payload Class (100%)',\n",
       " 'Nominal Rated Payload',\n",
       " 'Nominal Rated Payload (33.00R51 Tires)',\n",
       " 'Nominal Water Tank Capacity',\n",
       " 'Operating System',\n",
       " 'Operating Weight',\n",
       " 'Operating Weight - 11 Wheel Base Machine',\n",
       " 'Operating Weight - 11 Wheel with Maximum Ballast',\n",
       " 'Operating Weight - 9 Wheel Base Machine',\n",
       " 'Operating Weight - 9 Wheel with Maximum Ballast (1)',\n",
       " 'Operating Weight - Maximum',\n",
       " 'Operating Weight - Maximum Ballast',\n",
       " 'Operating Weight - Paver Only',\n",
       " 'Operating Weight - Standard Machine Empty',\n",
       " 'Operating Weight - Typically Equipped',\n",
       " 'Operating Weight - With Cab',\n",
       " 'Operating Weight - With ROPS/FOPS',\n",
       " 'Operating Weight - With ROPS/FOPS Canopy',\n",
       " 'Operating Weight - With SE34 VT',\n",
       " 'Operating Weight - With SE60 V',\n",
       " 'Operating Weight - With Sun Canopy',\n",
       " 'Operating Weight - XL',\n",
       " 'Operating Weight Maximum',\n",
       " 'Operating Weight\\xa0',\n",
       " 'Output',\n",
       " 'Plow Body Height',\n",
       " 'Power - Net',\n",
       " 'Processor',\n",
       " 'RAM Memory',\n",
       " 'Rated Gross Machine Weight',\n",
       " 'Rated Gross Machine Weight (33.00R51 tires)',\n",
       " 'Rated Load Capacity',\n",
       " 'Rated Operating Capacities - 35% Tipping Load',\n",
       " 'Rated Operating Capacity',\n",
       " 'Rated Payload',\n",
       " 'Rated Power',\n",
       " 'Scraper Capacity - Heaped',\n",
       " 'Scraper Engine',\n",
       " 'Seam Range',\n",
       " 'Seat (Capacity)',\n",
       " 'Shield Centers',\n",
       " 'Shield Density',\n",
       " 'Standard - Operating Weight',\n",
       " 'Standard Compaction Width',\n",
       " 'Standard Operating Weight with ROPS',\n",
       " 'Standard Paving Range',\n",
       " 'Standard Paving Range - SE50 V, SE50 VT',\n",
       " 'Standard Weight',\n",
       " 'Standard Wheel Base',\n",
       " 'Stroke',\n",
       " 'Tier 4 Bare Chassis Weight without Hoist',\n",
       " 'Top Plate Thickness',\n",
       " 'Top Speed',\n",
       " 'Top Speed - Loaded',\n",
       " 'Tractor Engine',\n",
       " 'Tractor ROPS',\n",
       " 'Travel Speed - Maximum',\n",
       " 'Turning Radius - Inside Drum Edge',\n",
       " 'Weight (Stage V)*',\n",
       " 'Weight (gearbox without oil)',\n",
       " 'Weight - Without Oil - In-line Drive System',\n",
       " 'Weight*',\n",
       " 'Working Weight - Approximate',\n",
       " 'Working Weight - With Dipper and Standard Links'}"
      ]
     },
     "execution_count": 92,
     "metadata": {},
     "output_type": "execute_result"
    }
   ],
   "source": [
    "l"
   ]
  },
  {
   "cell_type": "code",
   "execution_count": 93,
   "metadata": {},
   "outputs": [],
   "source": [
    "def get_operat_weight_US(x):\n",
    "    for i in x:\n",
    "        if 'Weight' in i['spec_name'] or 'Capacity' in i['spec_name'] or 'Capacities' in i['spec_name'] or i['spec_name'] == 'Rated Payload' or i['spec_name'] == 'Nominal Rated Payload (33.00R51 Tires)' or i['spec_name'] == 'Nominal Rated Payload' or i['spec_name'] == 'Maximum Rated Output Torque' or i['spec_name'] == 'Dipper Payload' or i['spec_name'] == 'Bucket Payload' or i['spec_name'] == 'Nominal Payload Class (100%)' or i['spec_name'] == 'Bit Load' or i['spec_name'] == 'Bucket Capability' or i['spec_name'] == 'Cab - ROPS/FOPS' or i['spec_name'] =='Dogbone Breaking Force' or i['spec_name'] =='Heaped (SAE 2:1)' or i['spec_name'] == 'Tractor ROPS':\n",
    "            return i['spec_value'][0]\n",
    "    return 0\n",
    "dftotal['Operating Load (US)'] = dftotal.specs.apply(get_operat_weight_US)"
   ]
  },
  {
   "cell_type": "code",
   "execution_count": 94,
   "metadata": {},
   "outputs": [],
   "source": [
    "def get_operat_weight_SI(x):\n",
    "    for i in x:\n",
    "        if 'Weight' in i['spec_name'] or 'Capacity' in i['spec_name'] or 'Capacities' in i['spec_name'] or i['spec_name'] == 'Rated Payload' or i['spec_name'] == 'Nominal Rated Payload (33.00R51 Tires)' or i['spec_name'] == 'Nominal Rated Payload' or i['spec_name'] == 'Maximum Rated Output Torque' or i['spec_name'] == 'Dipper Payload' or i['spec_name'] == 'Bucket Payload' or i['spec_name'] == 'Nominal Payload Class (100%)' or i['spec_name'] == 'Bit Load' or i['spec_name'] == 'Bucket Capability' or i['spec_name'] == 'Cab - ROPS/FOPS' or i['spec_name'] =='Dogbone Breaking Force' or i['spec_name'] =='Heaped (SAE 2:1)' or i['spec_name'] == 'Tractor ROPS':\n",
    "            return i['spec_value'][1]\n",
    "    return 0\n",
    "dftotal['Operating Load (SI)'] = dftotal.specs.apply(get_operat_weight_SI)"
   ]
  },
  {
   "cell_type": "code",
   "execution_count": 95,
   "metadata": {},
   "outputs": [],
   "source": [
    "def get_power_us(x):\n",
    "    for i in x:\n",
    "        if 'Power' in i['spec_name'] or 'Engine Output' in i['spec_name'] or i['spec_name'] == 'Electric Motor - Output' or i['spec_name'] == 'Output':\n",
    "            return i['spec_value'][0]\n",
    "    return 0\n",
    "dftotal['Power (US)'] = dftotal.specs.apply(get_power_us)"
   ]
  },
  {
   "cell_type": "code",
   "execution_count": 96,
   "metadata": {},
   "outputs": [],
   "source": [
    "def get_power_si(x):\n",
    "    for i in x:\n",
    "        if 'Power' in i['spec_name'] or 'Engine Output' in i['spec_name'] or i['spec_name'] == 'Electric Motor - Output' or i['spec_name'] == 'Output':\n",
    "            return i['spec_value'][1]\n",
    "    return 0\n",
    "dftotal['Power (SI)'] = dftotal.specs.apply(get_power_si)"
   ]
  },
  {
   "cell_type": "code",
   "execution_count": 97,
   "metadata": {},
   "outputs": [],
   "source": [
    "def get_depth_us(x):\n",
    "    for i in x:\n",
    "        if 'Depth' in i['spec_name'] or i['spec_name'] == 'Hole Diameter':\n",
    "            return i['spec_value'][0]\n",
    "    return 0\n",
    "dftotal['Hole Depth/Size (US)'] = dftotal.specs.apply(get_depth_us)"
   ]
  },
  {
   "cell_type": "code",
   "execution_count": 98,
   "metadata": {},
   "outputs": [],
   "source": [
    "def get_depth_si(x):\n",
    "    for i in x:\n",
    "        if 'Depth' in i['spec_name'] or i['spec_name'] == 'Hole Diameter':\n",
    "            return i['spec_value'][1]\n",
    "    return 0\n",
    "dftotal['Hole Depth/Size (SI)'] = dftotal.specs.apply(get_depth_si)"
   ]
  },
  {
   "cell_type": "code",
   "execution_count": 99,
   "metadata": {},
   "outputs": [],
   "source": [
    "def get_width_us(x):\n",
    "    for i in x:\n",
    "        if 'Width' in i['spec_name'] or i['spec_name'] == 'Standard Paving Range' or i['spec_name'] == 'Standard Wheel Base' or i['spec_name'] == '6060 AC FS - Standard Track Pads' or i['spec_name'] == 'Bottom Plate Thickness' or i['spec_name'] == 'Height - Extended' or i['spec_name'] == 'Long Wheel Base' or i['spec_name'] ==' Maximum Lift Height' or i['spec_name'] =='Maximum Paving Range' or i['spec_name'] =='Maximum Pin Height at Stick Nose' or i['spec_name'] =='Plow Body Height' or i['spec_name'] == 'Seam Range' or i['spec_name'] =='Shield Centers' or i['spec_name'] =='Stroke' or i['spec_name'] =='Top Plate Thickness':\n",
    "            return i['spec_value'][0]\n",
    "    return 0\n",
    "dftotal['Size Construction (US)'] = dftotal.specs.apply(get_width_us)"
   ]
  },
  {
   "cell_type": "code",
   "execution_count": 100,
   "metadata": {},
   "outputs": [],
   "source": [
    "def get_width_si(x):\n",
    "    for i in x:\n",
    "        if 'Width' in i['spec_name'] or i['spec_name'] == 'Standard Paving Range' or i['spec_name'] == 'Standard Wheel Base' or i['spec_name'] == '6060 AC FS - Standard Track Pads' or i['spec_name'] == 'Bottom Plate Thickness' or i['spec_name'] == 'Height - Extended' or i['spec_name'] == 'Long Wheel Base' or i['spec_name'] ==' Maximum Lift Height' or i['spec_name'] =='Maximum Paving Range' or i['spec_name'] =='Maximum Pin Height at Stick Nose' or i['spec_name'] =='Plow Body Height' or i['spec_name'] == 'Seam Range' or i['spec_name'] =='Shield Centers' or i['spec_name'] =='Stroke' or i['spec_name'] =='Top Plate Thickness':\n",
    "            return i['spec_value'][1]\n",
    "    return 0\n",
    "dftotal['Size Construction (SI)'] = dftotal.specs.apply(get_width_si)"
   ]
  },
  {
   "cell_type": "code",
   "execution_count": 101,
   "metadata": {},
   "outputs": [],
   "source": [
    "def get_engine(x):\n",
    "    for i in x:\n",
    "        if i['spec_name'] == 'Engine Model' or i['spec_name'] == 'Engine' or i['spec_name'] == 'Tractor Engine' or i['spec_name'] == 'Engine Model (1)' or i['spec_name'] == 'Scraper Engine' or i['spec_name'] == 'CPU':\n",
    "            return i['spec_value'][0]\n",
    "    return 0\n",
    "dftotal['Engine Model'] = dftotal.specs.apply(get_engine)"
   ]
  },
  {
   "cell_type": "code",
   "execution_count": 102,
   "metadata": {},
   "outputs": [],
   "source": [
    "def get_speed_mile(x):\n",
    "    for i in x:\n",
    "        if 'Speed' in i['spec_name']:\n",
    "            return i['spec_value'][0]\n",
    "    return 0\n",
    "\n",
    "dftotal['Travel Speed (US)'] = dftotal.specs.apply(get_speed_mile)\n"
   ]
  },
  {
   "cell_type": "code",
   "execution_count": 103,
   "metadata": {},
   "outputs": [],
   "source": [
    "def get_speed_km(x):\n",
    "    for i in x:\n",
    "        if 'Speed' in i['spec_name']:\n",
    "            return i['spec_value'][1]\n",
    "    return 0\n",
    "\n",
    "dftotal['Travel Speed (SI)'] = dftotal.specs.apply(get_speed_km)"
   ]
  },
  {
   "cell_type": "code",
   "execution_count": 104,
   "metadata": {
    "scrolled": true
   },
   "outputs": [
    {
     "data": {
      "text/plain": [
       "Index(['detail_url', 'businessUnit', 'idmodel', 'familyId', 'specs',\n",
       "       'model_name', 'family', 'Operating Load (US)', 'Operating Load (SI)',\n",
       "       'Power (US)', 'Power (SI)', 'Hole Depth/Size (US)',\n",
       "       'Hole Depth/Size (SI)', 'Size Construction (US)',\n",
       "       'Size Construction (SI)', 'Engine Model', 'Travel Speed (US)',\n",
       "       'Travel Speed (SI)'],\n",
       "      dtype='object')"
      ]
     },
     "execution_count": 104,
     "metadata": {},
     "output_type": "execute_result"
    }
   ],
   "source": [
    "dftotal.columns"
   ]
  },
  {
   "cell_type": "code",
   "execution_count": 105,
   "metadata": {},
   "outputs": [],
   "source": [
    "dftotal.drop('specs', axis=1, inplace=True)"
   ]
  },
  {
   "cell_type": "code",
   "execution_count": 106,
   "metadata": {
    "scrolled": true
   },
   "outputs": [
    {
     "data": {
      "text/html": [
       "<div>\n",
       "<style scoped>\n",
       "    .dataframe tbody tr th:only-of-type {\n",
       "        vertical-align: middle;\n",
       "    }\n",
       "\n",
       "    .dataframe tbody tr th {\n",
       "        vertical-align: top;\n",
       "    }\n",
       "\n",
       "    .dataframe thead th {\n",
       "        text-align: right;\n",
       "    }\n",
       "</style>\n",
       "<table border=\"1\" class=\"dataframe\">\n",
       "  <thead>\n",
       "    <tr style=\"text-align: right;\">\n",
       "      <th></th>\n",
       "      <th>detail_url</th>\n",
       "      <th>businessUnit</th>\n",
       "      <th>idmodel</th>\n",
       "      <th>familyId</th>\n",
       "      <th>model_name</th>\n",
       "      <th>family</th>\n",
       "      <th>Operating Load (US)</th>\n",
       "      <th>Operating Load (SI)</th>\n",
       "      <th>Power (US)</th>\n",
       "      <th>Power (SI)</th>\n",
       "      <th>Hole Depth/Size (US)</th>\n",
       "      <th>Hole Depth/Size (SI)</th>\n",
       "      <th>Size Construction (US)</th>\n",
       "      <th>Size Construction (SI)</th>\n",
       "      <th>Engine Model</th>\n",
       "      <th>Travel Speed (US)</th>\n",
       "      <th>Travel Speed (SI)</th>\n",
       "    </tr>\n",
       "  </thead>\n",
       "  <tbody>\n",
       "    <tr>\n",
       "      <th>0</th>\n",
       "      <td>/en_US/products/new/equipment/articulated-truc...</td>\n",
       "      <td>GCI</td>\n",
       "      <td>1000005091</td>\n",
       "      <td>articulated-truck-bare-chassis</td>\n",
       "      <td>725C2 Bare Chassis</td>\n",
       "      <td>Articulated Truck Bare Chassis</td>\n",
       "      <td>26 t</td>\n",
       "      <td>23.6 t</td>\n",
       "      <td>0</td>\n",
       "      <td>0</td>\n",
       "      <td>0</td>\n",
       "      <td>0</td>\n",
       "      <td>156.7 in</td>\n",
       "      <td>3979 mm</td>\n",
       "      <td>0</td>\n",
       "      <td>0</td>\n",
       "      <td>0</td>\n",
       "    </tr>\n",
       "    <tr>\n",
       "      <th>1</th>\n",
       "      <td>/en_US/products/new/equipment/articulated-truc...</td>\n",
       "      <td>GCI</td>\n",
       "      <td>1000005090</td>\n",
       "      <td>articulated-truck-bare-chassis</td>\n",
       "      <td>730C2 Bare Chassis</td>\n",
       "      <td>Articulated Truck Bare Chassis</td>\n",
       "      <td>31 t</td>\n",
       "      <td>28 t</td>\n",
       "      <td>0</td>\n",
       "      <td>0</td>\n",
       "      <td>0</td>\n",
       "      <td>0</td>\n",
       "      <td>156.7 in</td>\n",
       "      <td>3979 mm</td>\n",
       "      <td>0</td>\n",
       "      <td>0</td>\n",
       "      <td>0</td>\n",
       "    </tr>\n",
       "  </tbody>\n",
       "</table>\n",
       "</div>"
      ],
      "text/plain": [
       "                                          detail_url businessUnit     idmodel  \\\n",
       "0  /en_US/products/new/equipment/articulated-truc...          GCI  1000005091   \n",
       "1  /en_US/products/new/equipment/articulated-truc...          GCI  1000005090   \n",
       "\n",
       "                         familyId          model_name  \\\n",
       "0  articulated-truck-bare-chassis  725C2 Bare Chassis   \n",
       "1  articulated-truck-bare-chassis  730C2 Bare Chassis   \n",
       "\n",
       "                           family Operating Load (US) Operating Load (SI)  \\\n",
       "0  Articulated Truck Bare Chassis                26 t              23.6 t   \n",
       "1  Articulated Truck Bare Chassis                31 t                28 t   \n",
       "\n",
       "  Power (US) Power (SI) Hole Depth/Size (US) Hole Depth/Size (SI)  \\\n",
       "0          0          0                    0                    0   \n",
       "1          0          0                    0                    0   \n",
       "\n",
       "  Size Construction (US) Size Construction (SI) Engine Model  \\\n",
       "0               156.7 in                3979 mm            0   \n",
       "1               156.7 in                3979 mm            0   \n",
       "\n",
       "  Travel Speed (US) Travel Speed (SI)  \n",
       "0                 0                 0  \n",
       "1                 0                 0  "
      ]
     },
     "execution_count": 106,
     "metadata": {},
     "output_type": "execute_result"
    }
   ],
   "source": [
    "dftotal.head(2)"
   ]
  },
  {
   "cell_type": "code",
   "execution_count": 107,
   "metadata": {},
   "outputs": [],
   "source": [
    "columns_order = ['family', 'familyId', 'model_name', 'idmodel',\"Operating Load (US)\", \"Operating Load (SI)\", \"Size Construction (US)\", \"Size Construction (SI)\" , 'Power (US)', 'Power (SI)', 'Hole Depth/Size (US)', 'Hole Depth/Size (SI)', 'Travel Speed (US)', 'Travel Speed (SI)', 'Engine Model', 'businessUnit', 'detail_url']"
   ]
  },
  {
   "cell_type": "code",
   "execution_count": 108,
   "metadata": {},
   "outputs": [],
   "source": [
    "dftotal = dftotal.reindex(columns = columns_order)"
   ]
  },
  {
   "cell_type": "code",
   "execution_count": 109,
   "metadata": {},
   "outputs": [],
   "source": [
    "dftotal.reset_index(drop=True, inplace=True)"
   ]
  },
  {
   "cell_type": "code",
   "execution_count": 110,
   "metadata": {},
   "outputs": [],
   "source": [
    "dftotal.to_csv(\"caterpillar.csv\", sep = '.')"
   ]
  },
  {
   "cell_type": "code",
   "execution_count": 111,
   "metadata": {
    "scrolled": true
   },
   "outputs": [
    {
     "name": "stdout",
     "output_type": "stream",
     "text": [
      "['family', 'familyId', 'model_name', 'idmodel', 'Operating Load (US)', 'Operating Load (SI)', 'Size Construction (US)', 'Size Construction (SI)', 'Power (US)', 'Power (SI)', 'Hole Depth/Size (US)', 'Hole Depth/Size (SI)', 'Travel Speed (US)', 'Travel Speed (SI)', 'Engine Model', 'businessUnit', 'detail_url']\n"
     ]
    }
   ],
   "source": [
    "names_columns = dftotal.columns\n",
    "names_columns = list(names_columns)\n",
    "print(names_columns)"
   ]
  },
  {
   "cell_type": "markdown",
   "metadata": {},
   "source": [
    "```4th Task :```\n",
    "\n",
    "    Let's send it to MySQL"
   ]
  },
  {
   "cell_type": "code",
   "execution_count": 44,
   "metadata": {},
   "outputs": [],
   "source": [
    "from getpass import getpass\n",
    "import pymysql\n",
    "from sqlalchemy import create_engine"
   ]
  },
  {
   "cell_type": "code",
   "execution_count": 45,
   "metadata": {},
   "outputs": [
    {
     "name": "stdout",
     "output_type": "stream",
     "text": [
      "········\n"
     ]
    }
   ],
   "source": [
    "Hostname='localhost'\n",
    "username='root'\n",
    "password=getpass()"
   ]
  },
  {
   "cell_type": "code",
   "execution_count": 46,
   "metadata": {},
   "outputs": [],
   "source": [
    "eng=create_engine(f'mysql+pymysql://{username}:{password}@{Hostname}:3306/caterpillar')"
   ]
  },
  {
   "cell_type": "code",
   "execution_count": 47,
   "metadata": {},
   "outputs": [],
   "source": [
    "dftotal.to_sql('caterpillar', eng, if_exists = 'replace', index = False)"
   ]
  },
  {
   "cell_type": "markdown",
   "metadata": {},
   "source": [
    "import sqlite3\n",
    "conn = sqlite3.connect('Caterpillar.sql')\n",
    "c = conn.cursor()\n",
    "c.execute('CREATE TABLE EQUIPMENTS (Family, Model_Name, IdModel, Operating_Load_US, Operating_Load_SI, Size_Construction_US, Size Construction_SI, Power_US, Power_SI, Hole_Depth_Size_US, Hole_Depth_Size_SI, Travel_Speed_US, Travel_Speed_SI, Engine_Model, longDesc, businessUnit, detail_url, image_url, brand)')\n",
    "conn.commit()"
   ]
  },
  {
   "cell_type": "code",
   "execution_count": 112,
   "metadata": {
    "scrolled": false
   },
   "outputs": [
    {
     "data": {
      "text/html": [
       "<div>\n",
       "<style scoped>\n",
       "    .dataframe tbody tr th:only-of-type {\n",
       "        vertical-align: middle;\n",
       "    }\n",
       "\n",
       "    .dataframe tbody tr th {\n",
       "        vertical-align: top;\n",
       "    }\n",
       "\n",
       "    .dataframe thead th {\n",
       "        text-align: right;\n",
       "    }\n",
       "</style>\n",
       "<table border=\"1\" class=\"dataframe\">\n",
       "  <thead>\n",
       "    <tr style=\"text-align: right;\">\n",
       "      <th></th>\n",
       "      <th>family</th>\n",
       "      <th>familyId</th>\n",
       "      <th>model_name</th>\n",
       "      <th>idmodel</th>\n",
       "      <th>Operating Load (US)</th>\n",
       "      <th>Operating Load (SI)</th>\n",
       "      <th>Size Construction (US)</th>\n",
       "      <th>Size Construction (SI)</th>\n",
       "      <th>Power (US)</th>\n",
       "      <th>Power (SI)</th>\n",
       "      <th>Hole Depth/Size (US)</th>\n",
       "      <th>Hole Depth/Size (SI)</th>\n",
       "      <th>Travel Speed (US)</th>\n",
       "      <th>Travel Speed (SI)</th>\n",
       "      <th>Engine Model</th>\n",
       "      <th>businessUnit</th>\n",
       "      <th>detail_url</th>\n",
       "    </tr>\n",
       "  </thead>\n",
       "  <tbody>\n",
       "    <tr>\n",
       "      <th>0</th>\n",
       "      <td>Articulated Truck Bare Chassis</td>\n",
       "      <td>articulated-truck-bare-chassis</td>\n",
       "      <td>725C2 Bare Chassis</td>\n",
       "      <td>1000005091</td>\n",
       "      <td>26 t</td>\n",
       "      <td>23.6 t</td>\n",
       "      <td>156.7 in</td>\n",
       "      <td>3979 mm</td>\n",
       "      <td>0</td>\n",
       "      <td>0</td>\n",
       "      <td>0</td>\n",
       "      <td>0</td>\n",
       "      <td>0</td>\n",
       "      <td>0</td>\n",
       "      <td>0</td>\n",
       "      <td>GCI</td>\n",
       "      <td>/en_US/products/new/equipment/articulated-truc...</td>\n",
       "    </tr>\n",
       "    <tr>\n",
       "      <th>1</th>\n",
       "      <td>Articulated Truck Bare Chassis</td>\n",
       "      <td>articulated-truck-bare-chassis</td>\n",
       "      <td>730C2 Bare Chassis</td>\n",
       "      <td>1000005090</td>\n",
       "      <td>31 t</td>\n",
       "      <td>28 t</td>\n",
       "      <td>156.7 in</td>\n",
       "      <td>3979 mm</td>\n",
       "      <td>0</td>\n",
       "      <td>0</td>\n",
       "      <td>0</td>\n",
       "      <td>0</td>\n",
       "      <td>0</td>\n",
       "      <td>0</td>\n",
       "      <td>0</td>\n",
       "      <td>GCI</td>\n",
       "      <td>/en_US/products/new/equipment/articulated-truc...</td>\n",
       "    </tr>\n",
       "    <tr>\n",
       "      <th>2</th>\n",
       "      <td>Three Axle Articulated Trucks</td>\n",
       "      <td>three-axle-articulated-trucks</td>\n",
       "      <td>725</td>\n",
       "      <td>101640</td>\n",
       "      <td>26.5 ton (US)</td>\n",
       "      <td>24 t</td>\n",
       "      <td>0</td>\n",
       "      <td>0</td>\n",
       "      <td>0</td>\n",
       "      <td>0</td>\n",
       "      <td>0</td>\n",
       "      <td>0</td>\n",
       "      <td>0</td>\n",
       "      <td>0</td>\n",
       "      <td>Cat C9.3</td>\n",
       "      <td>GCI</td>\n",
       "      <td>/en_US/products/new/equipment/articulated-truc...</td>\n",
       "    </tr>\n",
       "    <tr>\n",
       "      <th>3</th>\n",
       "      <td>Three Axle Articulated Trucks</td>\n",
       "      <td>three-axle-articulated-trucks</td>\n",
       "      <td>730</td>\n",
       "      <td>15969812</td>\n",
       "      <td>31 ton (US)</td>\n",
       "      <td>28 t</td>\n",
       "      <td>0</td>\n",
       "      <td>0</td>\n",
       "      <td>0</td>\n",
       "      <td>0</td>\n",
       "      <td>0</td>\n",
       "      <td>0</td>\n",
       "      <td>0</td>\n",
       "      <td>0</td>\n",
       "      <td>Cat® C13</td>\n",
       "      <td>GCI</td>\n",
       "      <td>/en_US/products/new/equipment/articulated-truc...</td>\n",
       "    </tr>\n",
       "    <tr>\n",
       "      <th>4</th>\n",
       "      <td>Three Axle Articulated Trucks</td>\n",
       "      <td>three-axle-articulated-trucks</td>\n",
       "      <td>730 EJ</td>\n",
       "      <td>15969817</td>\n",
       "      <td>30 ton (US)</td>\n",
       "      <td>27.1 t</td>\n",
       "      <td>0</td>\n",
       "      <td>0</td>\n",
       "      <td>0</td>\n",
       "      <td>0</td>\n",
       "      <td>0</td>\n",
       "      <td>0</td>\n",
       "      <td>0</td>\n",
       "      <td>0</td>\n",
       "      <td>Cat® C13</td>\n",
       "      <td>GCI</td>\n",
       "      <td>/en_US/products/new/equipment/articulated-truc...</td>\n",
       "    </tr>\n",
       "    <tr>\n",
       "      <th>...</th>\n",
       "      <td>...</td>\n",
       "      <td>...</td>\n",
       "      <td>...</td>\n",
       "      <td>...</td>\n",
       "      <td>...</td>\n",
       "      <td>...</td>\n",
       "      <td>...</td>\n",
       "      <td>...</td>\n",
       "      <td>...</td>\n",
       "      <td>...</td>\n",
       "      <td>...</td>\n",
       "      <td>...</td>\n",
       "      <td>...</td>\n",
       "      <td>...</td>\n",
       "      <td>...</td>\n",
       "      <td>...</td>\n",
       "      <td>...</td>\n",
       "    </tr>\n",
       "    <tr>\n",
       "      <th>379</th>\n",
       "      <td>Open Bowl Scrapers</td>\n",
       "      <td>open-bowl-scrapers</td>\n",
       "      <td>621K</td>\n",
       "      <td>18576136</td>\n",
       "      <td>24 yd³</td>\n",
       "      <td>18.4 m³</td>\n",
       "      <td>0</td>\n",
       "      <td>0</td>\n",
       "      <td>304 kW (407 hp)</td>\n",
       "      <td>304 kW (407 hp)</td>\n",
       "      <td>0</td>\n",
       "      <td>0</td>\n",
       "      <td>33.5 mile/h</td>\n",
       "      <td>53.9 km/h</td>\n",
       "      <td>0</td>\n",
       "      <td>GCI</td>\n",
       "      <td>/en_US/products/new/equipment/wheel-tractor-sc...</td>\n",
       "    </tr>\n",
       "    <tr>\n",
       "      <th>380</th>\n",
       "      <td>Open Bowl Scrapers</td>\n",
       "      <td>open-bowl-scrapers</td>\n",
       "      <td>627K</td>\n",
       "      <td>18576180</td>\n",
       "      <td>24 yd³</td>\n",
       "      <td>18.4 m³</td>\n",
       "      <td>0</td>\n",
       "      <td>0</td>\n",
       "      <td>304 kW (407 hp)/216 kW (290 hp)</td>\n",
       "      <td>304 kW (407 hp)/216 kW (290 hp)</td>\n",
       "      <td>0</td>\n",
       "      <td>0</td>\n",
       "      <td>33.5 mile/h</td>\n",
       "      <td>53.9 km/h</td>\n",
       "      <td>0</td>\n",
       "      <td>GCI</td>\n",
       "      <td>/en_US/products/new/equipment/wheel-tractor-sc...</td>\n",
       "    </tr>\n",
       "    <tr>\n",
       "      <th>381</th>\n",
       "      <td>Open Bowl Scrapers</td>\n",
       "      <td>open-bowl-scrapers</td>\n",
       "      <td>631K</td>\n",
       "      <td>1000020943</td>\n",
       "      <td>34 yd³</td>\n",
       "      <td>26 m³</td>\n",
       "      <td>0</td>\n",
       "      <td>0</td>\n",
       "      <td>570 HP</td>\n",
       "      <td>425 kW</td>\n",
       "      <td>0</td>\n",
       "      <td>0</td>\n",
       "      <td>34.7 mile/h</td>\n",
       "      <td>55.8 km/h</td>\n",
       "      <td>0</td>\n",
       "      <td>GCI</td>\n",
       "      <td>/en_US/products/new/equipment/wheel-tractor-sc...</td>\n",
       "    </tr>\n",
       "    <tr>\n",
       "      <th>382</th>\n",
       "      <td>Open Bowl Scrapers</td>\n",
       "      <td>open-bowl-scrapers</td>\n",
       "      <td>637K</td>\n",
       "      <td>1000021433</td>\n",
       "      <td>34 yd³</td>\n",
       "      <td>26 m³</td>\n",
       "      <td>0</td>\n",
       "      <td>0</td>\n",
       "      <td>570 HP</td>\n",
       "      <td>425 kW</td>\n",
       "      <td>0</td>\n",
       "      <td>0</td>\n",
       "      <td>34.7 mile/h</td>\n",
       "      <td>55.8 km/h</td>\n",
       "      <td>0</td>\n",
       "      <td>GCI</td>\n",
       "      <td>/en_US/products/new/equipment/wheel-tractor-sc...</td>\n",
       "    </tr>\n",
       "    <tr>\n",
       "      <th>383</th>\n",
       "      <td>Open Bowl Scrapers</td>\n",
       "      <td>open-bowl-scrapers</td>\n",
       "      <td>657</td>\n",
       "      <td>15969767</td>\n",
       "      <td>0</td>\n",
       "      <td>0</td>\n",
       "      <td>0</td>\n",
       "      <td>0</td>\n",
       "      <td>469kW (629 hp) / 353 kW (473 hp)</td>\n",
       "      <td>469kW (629 hp) / 353 kW (473 hp)</td>\n",
       "      <td>0</td>\n",
       "      <td>0</td>\n",
       "      <td>0</td>\n",
       "      <td>0</td>\n",
       "      <td>Cat C18</td>\n",
       "      <td>GCI</td>\n",
       "      <td>/en_US/products/new/equipment/wheel-tractor-sc...</td>\n",
       "    </tr>\n",
       "  </tbody>\n",
       "</table>\n",
       "<p>384 rows × 17 columns</p>\n",
       "</div>"
      ],
      "text/plain": [
       "                             family                        familyId  \\\n",
       "0    Articulated Truck Bare Chassis  articulated-truck-bare-chassis   \n",
       "1    Articulated Truck Bare Chassis  articulated-truck-bare-chassis   \n",
       "2     Three Axle Articulated Trucks   three-axle-articulated-trucks   \n",
       "3     Three Axle Articulated Trucks   three-axle-articulated-trucks   \n",
       "4     Three Axle Articulated Trucks   three-axle-articulated-trucks   \n",
       "..                              ...                             ...   \n",
       "379              Open Bowl Scrapers              open-bowl-scrapers   \n",
       "380              Open Bowl Scrapers              open-bowl-scrapers   \n",
       "381              Open Bowl Scrapers              open-bowl-scrapers   \n",
       "382              Open Bowl Scrapers              open-bowl-scrapers   \n",
       "383              Open Bowl Scrapers              open-bowl-scrapers   \n",
       "\n",
       "             model_name     idmodel Operating Load (US) Operating Load (SI)  \\\n",
       "0    725C2 Bare Chassis  1000005091                26 t              23.6 t   \n",
       "1    730C2 Bare Chassis  1000005090                31 t                28 t   \n",
       "2                   725      101640       26.5 ton (US)                24 t   \n",
       "3                   730    15969812         31 ton (US)                28 t   \n",
       "4                730 EJ    15969817         30 ton (US)              27.1 t   \n",
       "..                  ...         ...                 ...                 ...   \n",
       "379                621K    18576136              24 yd³             18.4 m³   \n",
       "380                627K    18576180              24 yd³             18.4 m³   \n",
       "381                631K  1000020943              34 yd³               26 m³   \n",
       "382                637K  1000021433              34 yd³               26 m³   \n",
       "383                 657    15969767                   0                   0   \n",
       "\n",
       "    Size Construction (US) Size Construction (SI)  \\\n",
       "0                 156.7 in                3979 mm   \n",
       "1                 156.7 in                3979 mm   \n",
       "2                        0                      0   \n",
       "3                        0                      0   \n",
       "4                        0                      0   \n",
       "..                     ...                    ...   \n",
       "379                      0                      0   \n",
       "380                      0                      0   \n",
       "381                      0                      0   \n",
       "382                      0                      0   \n",
       "383                      0                      0   \n",
       "\n",
       "                           Power (US)                        Power (SI)  \\\n",
       "0                                   0                                 0   \n",
       "1                                   0                                 0   \n",
       "2                                   0                                 0   \n",
       "3                                   0                                 0   \n",
       "4                                   0                                 0   \n",
       "..                                ...                               ...   \n",
       "379                   304 kW (407 hp)                   304 kW (407 hp)   \n",
       "380   304 kW (407 hp)/216 kW (290 hp)   304 kW (407 hp)/216 kW (290 hp)   \n",
       "381                            570 HP                            425 kW   \n",
       "382                            570 HP                            425 kW   \n",
       "383  469kW (629 hp) / 353 kW (473 hp)  469kW (629 hp) / 353 kW (473 hp)   \n",
       "\n",
       "    Hole Depth/Size (US) Hole Depth/Size (SI) Travel Speed (US)  \\\n",
       "0                      0                    0                 0   \n",
       "1                      0                    0                 0   \n",
       "2                      0                    0                 0   \n",
       "3                      0                    0                 0   \n",
       "4                      0                    0                 0   \n",
       "..                   ...                  ...               ...   \n",
       "379                    0                    0       33.5 mile/h   \n",
       "380                    0                    0       33.5 mile/h   \n",
       "381                    0                    0       34.7 mile/h   \n",
       "382                    0                    0       34.7 mile/h   \n",
       "383                    0                    0                 0   \n",
       "\n",
       "    Travel Speed (SI) Engine Model businessUnit  \\\n",
       "0                   0            0          GCI   \n",
       "1                   0            0          GCI   \n",
       "2                   0     Cat C9.3          GCI   \n",
       "3                   0     Cat® C13          GCI   \n",
       "4                   0     Cat® C13          GCI   \n",
       "..                ...          ...          ...   \n",
       "379         53.9 km/h            0          GCI   \n",
       "380         53.9 km/h            0          GCI   \n",
       "381         55.8 km/h            0          GCI   \n",
       "382         55.8 km/h            0          GCI   \n",
       "383                 0      Cat C18          GCI   \n",
       "\n",
       "                                            detail_url  \n",
       "0    /en_US/products/new/equipment/articulated-truc...  \n",
       "1    /en_US/products/new/equipment/articulated-truc...  \n",
       "2    /en_US/products/new/equipment/articulated-truc...  \n",
       "3    /en_US/products/new/equipment/articulated-truc...  \n",
       "4    /en_US/products/new/equipment/articulated-truc...  \n",
       "..                                                 ...  \n",
       "379  /en_US/products/new/equipment/wheel-tractor-sc...  \n",
       "380  /en_US/products/new/equipment/wheel-tractor-sc...  \n",
       "381  /en_US/products/new/equipment/wheel-tractor-sc...  \n",
       "382  /en_US/products/new/equipment/wheel-tractor-sc...  \n",
       "383  /en_US/products/new/equipment/wheel-tractor-sc...  \n",
       "\n",
       "[384 rows x 17 columns]"
      ]
     },
     "execution_count": 112,
     "metadata": {},
     "output_type": "execute_result"
    }
   ],
   "source": [
    "dftotal"
   ]
  },
  {
   "cell_type": "markdown",
   "metadata": {},
   "source": [
    "```5th Task :```\n",
    "\n",
    "    Let's get the detailed specs"
   ]
  },
  {
   "cell_type": "code",
   "execution_count": 119,
   "metadata": {},
   "outputs": [],
   "source": [
    "path = r\"C:\\Program Files (x86)\\chromedriver.exe\""
   ]
  },
  {
   "cell_type": "code",
   "execution_count": 120,
   "metadata": {},
   "outputs": [],
   "source": [
    "driver = webdriver.Chrome(path)\n"
   ]
  },
  {
   "cell_type": "code",
   "execution_count": 121,
   "metadata": {
    "scrolled": false
   },
   "outputs": [
    {
     "name": "stderr",
     "output_type": "stream",
     "text": [
      "100%|████████████████████████████████████████████████████████████████████████████████| 384/384 [37:00<00:00,  5.78s/it]\n"
     ]
    }
   ],
   "source": [
    "dff = pd.DataFrame()\n",
    "\n",
    "\n",
    "for n in tqdm(dftotal.detail_url):\n",
    "\n",
    "    driver.get(f\"https://www.cat.com{n}\") \n",
    "    \n",
    "    try :\n",
    "        element =  driver.find_element_by_xpath(\"\"\"//*[@id=\"pdp-tab1\"]/div/div/div[2]/div/button\"\"\")\n",
    "        driver.execute_script(\"arguments[0].click();\", element)\n",
    "    except NoSuchElementException:  #spelling error making this code not work as expected\n",
    "        pass\n",
    "    \n",
    "    url = driver.page_source\n",
    "    soup = BeautifulSoup(url, 'lxml')\n",
    "    table = soup.find_all('table')\n",
    "    \n",
    "    \n",
    "    df = pd.concat(pd.read_html(str(table)),ignore_index=True)\n",
    "\n",
    "    df['name'], df['model'] = ' '.join(driver.title.split('|')[0].split(' ')[1:3]), driver.title.split('|')[0].split(' ')[0]\n",
    "    \n",
    "    df.set_index(['name', 'model'], inplace=True)\n",
    "    \n",
    "    dff = dff.append(df)\n",
    "    \n"
   ]
  },
  {
   "cell_type": "code",
   "execution_count": 123,
   "metadata": {
    "scrolled": false
   },
   "outputs": [
    {
     "data": {
      "text/html": [
       "<div>\n",
       "<style scoped>\n",
       "    .dataframe tbody tr th:only-of-type {\n",
       "        vertical-align: middle;\n",
       "    }\n",
       "\n",
       "    .dataframe tbody tr th {\n",
       "        vertical-align: top;\n",
       "    }\n",
       "\n",
       "    .dataframe thead th {\n",
       "        text-align: right;\n",
       "    }\n",
       "</style>\n",
       "<table border=\"1\" class=\"dataframe\">\n",
       "  <thead>\n",
       "    <tr style=\"text-align: right;\">\n",
       "      <th></th>\n",
       "      <th></th>\n",
       "      <th>0</th>\n",
       "      <th>1</th>\n",
       "    </tr>\n",
       "    <tr>\n",
       "      <th>name</th>\n",
       "      <th>model</th>\n",
       "      <th></th>\n",
       "      <th></th>\n",
       "    </tr>\n",
       "  </thead>\n",
       "  <tbody>\n",
       "    <tr>\n",
       "      <th rowspan=\"5\" valign=\"top\">Bare Chassis</th>\n",
       "      <th>725C2</th>\n",
       "      <td>Standard Wheel Base</td>\n",
       "      <td>156.7 in 3979 mm</td>\n",
       "    </tr>\n",
       "    <tr>\n",
       "      <th>725C2</th>\n",
       "      <td>Long Wheel Base</td>\n",
       "      <td>215.2 in 5465 mm</td>\n",
       "    </tr>\n",
       "    <tr>\n",
       "      <th>725C2</th>\n",
       "      <td>Engine Model</td>\n",
       "      <td>Cat C13 ACERT Cat C13 ACERT</td>\n",
       "    </tr>\n",
       "    <tr>\n",
       "      <th>725C2</th>\n",
       "      <td>Gross Power - SAE J1995</td>\n",
       "      <td>320 HP 239 kW</td>\n",
       "    </tr>\n",
       "    <tr>\n",
       "      <th>725C2</th>\n",
       "      <td>Net Power - SAE J1349</td>\n",
       "      <td>314 HP 234 kW</td>\n",
       "    </tr>\n",
       "    <tr>\n",
       "      <th>...</th>\n",
       "      <th>...</th>\n",
       "      <td>...</td>\n",
       "      <td>...</td>\n",
       "    </tr>\n",
       "    <tr>\n",
       "      <th rowspan=\"5\" valign=\"top\">Open Bowl</th>\n",
       "      <th>657</th>\n",
       "      <td>Front Axle</td>\n",
       "      <td>93842 lb 42566 kg</td>\n",
       "    </tr>\n",
       "    <tr>\n",
       "      <th>657</th>\n",
       "      <td>Rear Axle</td>\n",
       "      <td>66663 lb 30238 kg</td>\n",
       "    </tr>\n",
       "    <tr>\n",
       "      <th>657</th>\n",
       "      <td>Total Operating - Loaded</td>\n",
       "      <td>268302 lb 121700 kg</td>\n",
       "    </tr>\n",
       "    <tr>\n",
       "      <th>657</th>\n",
       "      <td>Front Axle - Loaded</td>\n",
       "      <td>134165 lb 60856 kg</td>\n",
       "    </tr>\n",
       "    <tr>\n",
       "      <th>657</th>\n",
       "      <td>Rear Axle - Loaded</td>\n",
       "      <td>130340 lb 59121 kg</td>\n",
       "    </tr>\n",
       "  </tbody>\n",
       "</table>\n",
       "<p>23876 rows × 2 columns</p>\n",
       "</div>"
      ],
      "text/plain": [
       "                                           0                            1\n",
       "name         model                                                       \n",
       "Bare Chassis 725C2       Standard Wheel Base             156.7 in 3979 mm\n",
       "             725C2           Long Wheel Base             215.2 in 5465 mm\n",
       "             725C2              Engine Model  Cat C13 ACERT Cat C13 ACERT\n",
       "             725C2   Gross Power - SAE J1995                320 HP 239 kW\n",
       "             725C2     Net Power - SAE J1349                314 HP 234 kW\n",
       "...                                      ...                          ...\n",
       "Open Bowl    657                  Front Axle            93842 lb 42566 kg\n",
       "             657                   Rear Axle            66663 lb 30238 kg\n",
       "             657    Total Operating - Loaded          268302 lb 121700 kg\n",
       "             657         Front Axle - Loaded           134165 lb 60856 kg\n",
       "             657          Rear Axle - Loaded           130340 lb 59121 kg\n",
       "\n",
       "[23876 rows x 2 columns]"
      ]
     },
     "execution_count": 123,
     "metadata": {},
     "output_type": "execute_result"
    }
   ],
   "source": [
    "dff"
   ]
  },
  {
   "cell_type": "code",
   "execution_count": 137,
   "metadata": {
    "scrolled": true
   },
   "outputs": [
    {
     "data": {
      "text/plain": [
       "0    0\n",
       "1    0\n",
       "dtype: int64"
      ]
     },
     "execution_count": 137,
     "metadata": {},
     "output_type": "execute_result"
    }
   ],
   "source": [
    "dff.isnull().sum()"
   ]
  },
  {
   "cell_type": "code",
   "execution_count": 150,
   "metadata": {
    "run_control": {
     "marked": false
    }
   },
   "outputs": [],
   "source": [
    "dff.to_csv('cat_brut.csv', sep=';')"
   ]
  },
  {
   "cell_type": "code",
   "execution_count": 152,
   "metadata": {},
   "outputs": [],
   "source": [
    "dff.to_csv('catbrut.csv')"
   ]
  },
  {
   "cell_type": "code",
   "execution_count": 124,
   "metadata": {},
   "outputs": [],
   "source": [
    "data = dff.copy()"
   ]
  },
  {
   "cell_type": "code",
   "execution_count": 128,
   "metadata": {},
   "outputs": [],
   "source": [
    "data.rename(columns={0:'spec_name', 1:'spec_value'}, inplace=True)"
   ]
  },
  {
   "cell_type": "code",
   "execution_count": 133,
   "metadata": {
    "scrolled": true
   },
   "outputs": [],
   "source": [
    "data.loc[data.spec_name.str.contains('Note'), 'spec_name'] = np.nan"
   ]
  },
  {
   "cell_type": "code",
   "execution_count": 138,
   "metadata": {
    "scrolled": true
   },
   "outputs": [
    {
     "data": {
      "text/plain": [
       "spec_name     1422\n",
       "spec_value       0\n",
       "dtype: int64"
      ]
     },
     "execution_count": 138,
     "metadata": {},
     "output_type": "execute_result"
    }
   ],
   "source": [
    "data.isnull().sum()"
   ]
  },
  {
   "cell_type": "code",
   "execution_count": 140,
   "metadata": {},
   "outputs": [],
   "source": [
    "data.dropna(inplace=True)"
   ]
  },
  {
   "cell_type": "code",
   "execution_count": 141,
   "metadata": {},
   "outputs": [
    {
     "data": {
      "text/plain": [
       "spec_name     0\n",
       "spec_value    0\n",
       "dtype: int64"
      ]
     },
     "execution_count": 141,
     "metadata": {},
     "output_type": "execute_result"
    }
   ],
   "source": [
    "data.isnull().sum()"
   ]
  },
  {
   "cell_type": "code",
   "execution_count": 142,
   "metadata": {},
   "outputs": [
    {
     "data": {
      "text/html": [
       "<div>\n",
       "<style scoped>\n",
       "    .dataframe tbody tr th:only-of-type {\n",
       "        vertical-align: middle;\n",
       "    }\n",
       "\n",
       "    .dataframe tbody tr th {\n",
       "        vertical-align: top;\n",
       "    }\n",
       "\n",
       "    .dataframe thead th {\n",
       "        text-align: right;\n",
       "    }\n",
       "</style>\n",
       "<table border=\"1\" class=\"dataframe\">\n",
       "  <thead>\n",
       "    <tr style=\"text-align: right;\">\n",
       "      <th></th>\n",
       "      <th></th>\n",
       "      <th>spec_name</th>\n",
       "      <th>spec_value</th>\n",
       "    </tr>\n",
       "    <tr>\n",
       "      <th>name</th>\n",
       "      <th>model</th>\n",
       "      <th></th>\n",
       "      <th></th>\n",
       "    </tr>\n",
       "  </thead>\n",
       "  <tbody>\n",
       "    <tr>\n",
       "      <th rowspan=\"5\" valign=\"top\">Bare Chassis</th>\n",
       "      <th>725C2</th>\n",
       "      <td>Standard Wheel Base</td>\n",
       "      <td>156.7 in 3979 mm</td>\n",
       "    </tr>\n",
       "    <tr>\n",
       "      <th>725C2</th>\n",
       "      <td>Long Wheel Base</td>\n",
       "      <td>215.2 in 5465 mm</td>\n",
       "    </tr>\n",
       "    <tr>\n",
       "      <th>725C2</th>\n",
       "      <td>Engine Model</td>\n",
       "      <td>Cat C13 ACERT Cat C13 ACERT</td>\n",
       "    </tr>\n",
       "    <tr>\n",
       "      <th>725C2</th>\n",
       "      <td>Gross Power - SAE J1995</td>\n",
       "      <td>320 HP 239 kW</td>\n",
       "    </tr>\n",
       "    <tr>\n",
       "      <th>725C2</th>\n",
       "      <td>Net Power - SAE J1349</td>\n",
       "      <td>314 HP 234 kW</td>\n",
       "    </tr>\n",
       "    <tr>\n",
       "      <th>...</th>\n",
       "      <th>...</th>\n",
       "      <td>...</td>\n",
       "      <td>...</td>\n",
       "    </tr>\n",
       "    <tr>\n",
       "      <th rowspan=\"5\" valign=\"top\">Open Bowl</th>\n",
       "      <th>657</th>\n",
       "      <td>Front Axle</td>\n",
       "      <td>93842 lb 42566 kg</td>\n",
       "    </tr>\n",
       "    <tr>\n",
       "      <th>657</th>\n",
       "      <td>Rear Axle</td>\n",
       "      <td>66663 lb 30238 kg</td>\n",
       "    </tr>\n",
       "    <tr>\n",
       "      <th>657</th>\n",
       "      <td>Total Operating - Loaded</td>\n",
       "      <td>268302 lb 121700 kg</td>\n",
       "    </tr>\n",
       "    <tr>\n",
       "      <th>657</th>\n",
       "      <td>Front Axle - Loaded</td>\n",
       "      <td>134165 lb 60856 kg</td>\n",
       "    </tr>\n",
       "    <tr>\n",
       "      <th>657</th>\n",
       "      <td>Rear Axle - Loaded</td>\n",
       "      <td>130340 lb 59121 kg</td>\n",
       "    </tr>\n",
       "  </tbody>\n",
       "</table>\n",
       "<p>22454 rows × 2 columns</p>\n",
       "</div>"
      ],
      "text/plain": [
       "                                   spec_name                   spec_value\n",
       "name         model                                                       \n",
       "Bare Chassis 725C2       Standard Wheel Base             156.7 in 3979 mm\n",
       "             725C2           Long Wheel Base             215.2 in 5465 mm\n",
       "             725C2              Engine Model  Cat C13 ACERT Cat C13 ACERT\n",
       "             725C2   Gross Power - SAE J1995                320 HP 239 kW\n",
       "             725C2     Net Power - SAE J1349                314 HP 234 kW\n",
       "...                                      ...                          ...\n",
       "Open Bowl    657                  Front Axle            93842 lb 42566 kg\n",
       "             657                   Rear Axle            66663 lb 30238 kg\n",
       "             657    Total Operating - Loaded          268302 lb 121700 kg\n",
       "             657         Front Axle - Loaded           134165 lb 60856 kg\n",
       "             657          Rear Axle - Loaded           130340 lb 59121 kg\n",
       "\n",
       "[22454 rows x 2 columns]"
      ]
     },
     "execution_count": 142,
     "metadata": {},
     "output_type": "execute_result"
    }
   ],
   "source": [
    "data"
   ]
  },
  {
   "cell_type": "code",
   "execution_count": 147,
   "metadata": {},
   "outputs": [
    {
     "name": "stderr",
     "output_type": "stream",
     "text": [
      "100%|██████████████████████████████████████████████████████████████████████████| 22454/22454 [1:51:46<00:00,  3.35it/s]\n"
     ]
    }
   ],
   "source": [
    "for i in tqdm(data['spec_value']):\n",
    "    x = len(i.split(' '))\n",
    "    data['spec_value_US'] = data['spec_value'].str.split(' ').str[:int(abs(x/2))]\n",
    "    data['spec_value_INT'] = data['spec_value'].str.split(' ').str[-int(abs(x/2)):]"
   ]
  },
  {
   "cell_type": "code",
   "execution_count": 148,
   "metadata": {
    "scrolled": true
   },
   "outputs": [
    {
     "data": {
      "text/html": [
       "<div>\n",
       "<style scoped>\n",
       "    .dataframe tbody tr th:only-of-type {\n",
       "        vertical-align: middle;\n",
       "    }\n",
       "\n",
       "    .dataframe tbody tr th {\n",
       "        vertical-align: top;\n",
       "    }\n",
       "\n",
       "    .dataframe thead th {\n",
       "        text-align: right;\n",
       "    }\n",
       "</style>\n",
       "<table border=\"1\" class=\"dataframe\">\n",
       "  <thead>\n",
       "    <tr style=\"text-align: right;\">\n",
       "      <th></th>\n",
       "      <th></th>\n",
       "      <th>spec_name</th>\n",
       "      <th>spec_value</th>\n",
       "      <th>spec_value_US</th>\n",
       "      <th>spec_value_INT</th>\n",
       "    </tr>\n",
       "    <tr>\n",
       "      <th>name</th>\n",
       "      <th>model</th>\n",
       "      <th></th>\n",
       "      <th></th>\n",
       "      <th></th>\n",
       "      <th></th>\n",
       "    </tr>\n",
       "  </thead>\n",
       "  <tbody>\n",
       "    <tr>\n",
       "      <th rowspan=\"5\" valign=\"top\">Bare Chassis</th>\n",
       "      <th>725C2</th>\n",
       "      <td>Standard Wheel Base</td>\n",
       "      <td>156.7 in 3979 mm</td>\n",
       "      <td>[156.7, in]</td>\n",
       "      <td>[3979, mm]</td>\n",
       "    </tr>\n",
       "    <tr>\n",
       "      <th>725C2</th>\n",
       "      <td>Long Wheel Base</td>\n",
       "      <td>215.2 in 5465 mm</td>\n",
       "      <td>[215.2, in]</td>\n",
       "      <td>[5465, mm]</td>\n",
       "    </tr>\n",
       "    <tr>\n",
       "      <th>725C2</th>\n",
       "      <td>Engine Model</td>\n",
       "      <td>Cat C13 ACERT Cat C13 ACERT</td>\n",
       "      <td>[Cat, C13]</td>\n",
       "      <td>[C13, ACERT]</td>\n",
       "    </tr>\n",
       "    <tr>\n",
       "      <th>725C2</th>\n",
       "      <td>Gross Power - SAE J1995</td>\n",
       "      <td>320 HP 239 kW</td>\n",
       "      <td>[320, HP]</td>\n",
       "      <td>[239, kW]</td>\n",
       "    </tr>\n",
       "    <tr>\n",
       "      <th>725C2</th>\n",
       "      <td>Net Power - SAE J1349</td>\n",
       "      <td>314 HP 234 kW</td>\n",
       "      <td>[314, HP]</td>\n",
       "      <td>[234, kW]</td>\n",
       "    </tr>\n",
       "    <tr>\n",
       "      <th>...</th>\n",
       "      <th>...</th>\n",
       "      <td>...</td>\n",
       "      <td>...</td>\n",
       "      <td>...</td>\n",
       "      <td>...</td>\n",
       "    </tr>\n",
       "    <tr>\n",
       "      <th rowspan=\"5\" valign=\"top\">Open Bowl</th>\n",
       "      <th>657</th>\n",
       "      <td>Front Axle</td>\n",
       "      <td>93842 lb 42566 kg</td>\n",
       "      <td>[93842, lb]</td>\n",
       "      <td>[42566, kg]</td>\n",
       "    </tr>\n",
       "    <tr>\n",
       "      <th>657</th>\n",
       "      <td>Rear Axle</td>\n",
       "      <td>66663 lb 30238 kg</td>\n",
       "      <td>[66663, lb]</td>\n",
       "      <td>[30238, kg]</td>\n",
       "    </tr>\n",
       "    <tr>\n",
       "      <th>657</th>\n",
       "      <td>Total Operating - Loaded</td>\n",
       "      <td>268302 lb 121700 kg</td>\n",
       "      <td>[268302, lb]</td>\n",
       "      <td>[121700, kg]</td>\n",
       "    </tr>\n",
       "    <tr>\n",
       "      <th>657</th>\n",
       "      <td>Front Axle - Loaded</td>\n",
       "      <td>134165 lb 60856 kg</td>\n",
       "      <td>[134165, lb]</td>\n",
       "      <td>[60856, kg]</td>\n",
       "    </tr>\n",
       "    <tr>\n",
       "      <th>657</th>\n",
       "      <td>Rear Axle - Loaded</td>\n",
       "      <td>130340 lb 59121 kg</td>\n",
       "      <td>[130340, lb]</td>\n",
       "      <td>[59121, kg]</td>\n",
       "    </tr>\n",
       "  </tbody>\n",
       "</table>\n",
       "<p>22454 rows × 4 columns</p>\n",
       "</div>"
      ],
      "text/plain": [
       "                                   spec_name                   spec_value  \\\n",
       "name         model                                                          \n",
       "Bare Chassis 725C2       Standard Wheel Base             156.7 in 3979 mm   \n",
       "             725C2           Long Wheel Base             215.2 in 5465 mm   \n",
       "             725C2              Engine Model  Cat C13 ACERT Cat C13 ACERT   \n",
       "             725C2   Gross Power - SAE J1995                320 HP 239 kW   \n",
       "             725C2     Net Power - SAE J1349                314 HP 234 kW   \n",
       "...                                      ...                          ...   \n",
       "Open Bowl    657                  Front Axle            93842 lb 42566 kg   \n",
       "             657                   Rear Axle            66663 lb 30238 kg   \n",
       "             657    Total Operating - Loaded          268302 lb 121700 kg   \n",
       "             657         Front Axle - Loaded           134165 lb 60856 kg   \n",
       "             657          Rear Axle - Loaded           130340 lb 59121 kg   \n",
       "\n",
       "                   spec_value_US spec_value_INT  \n",
       "name         model                               \n",
       "Bare Chassis 725C2   [156.7, in]     [3979, mm]  \n",
       "             725C2   [215.2, in]     [5465, mm]  \n",
       "             725C2    [Cat, C13]   [C13, ACERT]  \n",
       "             725C2     [320, HP]      [239, kW]  \n",
       "             725C2     [314, HP]      [234, kW]  \n",
       "...                          ...            ...  \n",
       "Open Bowl    657     [93842, lb]    [42566, kg]  \n",
       "             657     [66663, lb]    [30238, kg]  \n",
       "             657    [268302, lb]   [121700, kg]  \n",
       "             657    [134165, lb]    [60856, kg]  \n",
       "             657    [130340, lb]    [59121, kg]  \n",
       "\n",
       "[22454 rows x 4 columns]"
      ]
     },
     "execution_count": 148,
     "metadata": {},
     "output_type": "execute_result"
    }
   ],
   "source": [
    "data"
   ]
  },
  {
   "cell_type": "code",
   "execution_count": 149,
   "metadata": {},
   "outputs": [],
   "source": [
    "data.to_csv('cat_clean.csv', sep=';')"
   ]
  },
  {
   "cell_type": "code",
   "execution_count": 153,
   "metadata": {},
   "outputs": [],
   "source": [
    "data.to_csv('catclean.csv')"
   ]
  },
  {
   "cell_type": "code",
   "execution_count": null,
   "metadata": {},
   "outputs": [],
   "source": []
  }
 ],
 "metadata": {
  "hide_input": false,
  "kernelspec": {
   "display_name": "Python 3",
   "language": "python",
   "name": "python3"
  },
  "language_info": {
   "codemirror_mode": {
    "name": "ipython",
    "version": 3
   },
   "file_extension": ".py",
   "mimetype": "text/x-python",
   "name": "python",
   "nbconvert_exporter": "python",
   "pygments_lexer": "ipython3",
   "version": "3.8.5"
  }
 },
 "nbformat": 4,
 "nbformat_minor": 4
}
